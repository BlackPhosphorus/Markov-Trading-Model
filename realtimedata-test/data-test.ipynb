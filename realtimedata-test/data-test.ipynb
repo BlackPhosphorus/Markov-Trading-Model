{
 "cells": [
  {
   "cell_type": "code",
   "execution_count": null,
   "metadata": {},
   "outputs": [],
   "source": [
    "%pip install yfinance pandas numpy matplotlib\n",
    "import yfinance as yf\n",
    "import pandas as pd\n",
    "import numpy as np\n",
    "import matplotlib.pyplot as plt"
   ]
  },
  {
   "cell_type": "code",
   "execution_count": 4,
   "metadata": {},
   "outputs": [],
   "source": [
    "tech_stocks = ['AAPL', 'MSFT', 'GOOGL', 'AMZN', 'FB', 'NVDA', 'TSLA', 'NFLX', 'ADBE', 'INTC']\n",
    "# asked GPT to list out tech stocks"
   ]
  },
  {
   "cell_type": "code",
   "execution_count": 7,
   "metadata": {},
   "outputs": [],
   "source": [
    "lookback = 14\n",
    "initial_capital = 100,000.0\n",
    "results = pd.DataFrame(columns=['Ticker', 'Final Value'])\n",
    "def stochastic_oscillator(data, lookback):\n",
    "    low_min = data['Low'].rolling(window=lookback).min()\n",
    "    high_max = data['High'].rolling(window=lookback).max()\n",
    "    data['%K'] = 100 * (data['Close'] - low_min) / (high_max - low_min)\n",
    "    data['%D'] = data['%K'].rolling(window=3).mean()\n",
    "    return data"
   ]
  },
  {
   "cell_type": "code",
   "execution_count": 39,
   "metadata": {},
   "outputs": [],
   "source": [
    "def backtest_stochastic_simple(ticker):\n",
    "    data = yf.download(ticker, period=\"1y\")\n",
    "    data = stochastic_oscillator(data, lookback)\n",
    "    \n",
    "    in_position = False\n",
    "    shares = 0\n",
    "    cash = initial_capital\n",
    "    \n",
    "    for i in range(len(data)):\n",
    "        if data['%K'].iloc[i] > 80 and not in_position:  # Buy signal\n",
    "            shares = cash // data['Close'].iloc[i]\n",
    "            cash -= shares * data['Close'].iloc[i]\n",
    "            in_position = True\n",
    "            print(f\"Buying {shares} shares of {ticker} at {data['Close'].iloc[i]} on {data.index[i]}\")\n",
    "        \n",
    "        elif data['%K'].iloc[i] < 20 and in_position:  # Sell signal\n",
    "            cash += shares * data['Close'].iloc[i]\n",
    "            shares = 0\n",
    "            in_position = False\n",
    "            print(f\"Selling shares of {ticker} at {data['Close'].iloc[i]} on {data.index[i]}\")\n",
    "    \n",
    "    if in_position:\n",
    "        final_portfolio_value = cash + shares * data['Close'].iloc[-1]\n",
    "    else:\n",
    "        final_portfolio_value = cash\n",
    "\n",
    "    return {'Ticker': ticker, 'Final Portfolio Value': final_portfolio_value}"
   ]
  },
  {
   "cell_type": "code",
   "execution_count": 40,
   "metadata": {},
   "outputs": [
    {
     "name": "stderr",
     "output_type": "stream",
     "text": [
      "[*********************100%%**********************]  1 of 1 completed\n",
      "[*********************100%%**********************]  1 of 1 completed\n"
     ]
    },
    {
     "name": "stdout",
     "output_type": "stream",
     "text": [
      "Buying [0. 0.] shares of AAPL at 177.49000549316406 on 2023-10-06 00:00:00\n",
      "Selling shares of AAPL at 172.8800048828125 on 2023-10-20 00:00:00\n",
      "Buying [0. 0.] shares of AAPL at 177.57000732421875 on 2023-11-02 00:00:00\n",
      "Selling shares of AAPL at 193.0500030517578 on 2023-12-26 00:00:00\n",
      "Buying [0. 0.] shares of AAPL at 191.55999755859375 on 2024-01-19 00:00:00\n",
      "Selling shares of AAPL at 181.55999755859375 on 2024-02-20 00:00:00\n",
      "Buying [0. 0.] shares of AAPL at 178.6699981689453 on 2024-03-20 00:00:00\n",
      "Selling shares of AAPL at 169.7100067138672 on 2024-03-26 00:00:00\n",
      "Buying [0. 0.] shares of AAPL at 175.0399932861328 on 2024-04-11 00:00:00\n",
      "Selling shares of AAPL at 168.0 on 2024-04-17 00:00:00\n",
      "Buying [0. 0.] shares of AAPL at 183.3800048828125 on 2024-05-03 00:00:00\n",
      "Selling shares of AAPL at 218.5399932861328 on 2024-07-24 00:00:00\n",
      "Buying [0. 0.] shares of AAPL at 221.27000427246094 on 2024-08-13 00:00:00\n",
      "Buying [0. 0.] shares of MSFT at 334.2699890136719 on 2023-09-08 00:00:00\n",
      "Selling shares of MSFT at 320.7699890136719 on 2023-09-20 00:00:00\n",
      "Buying [0. 0.] shares of MSFT at 327.260009765625 on 2023-10-06 00:00:00\n",
      "Selling shares of MSFT at 365.92999267578125 on 2023-12-14 00:00:00\n",
      "Buying [0. 0.] shares of MSFT at 375.2799987792969 on 2023-12-28 00:00:00\n",
      "Selling shares of MSFT at 367.75 on 2024-01-05 00:00:00\n",
      "Buying [0. 0.] shares of MSFT at 375.7900085449219 on 2024-01-09 00:00:00\n",
      "Selling shares of MSFT at 413.6400146484375 on 2024-04-15 00:00:00\n",
      "Buying [0. 0.] shares of MSFT at 413.5400085449219 on 2024-05-06 00:00:00\n",
      "Selling shares of MSFT at 414.6700134277344 on 2024-05-30 00:00:00\n",
      "Buying [0. 0.] shares of MSFT at 427.8699951171875 on 2024-06-10 00:00:00\n",
      "Selling shares of MSFT at 449.5199890136719 on 2024-07-16 00:00:00\n",
      "Buying [0. 0.] shares of MSFT at 421.5299987792969 on 2024-08-19 00:00:00\n"
     ]
    },
    {
     "name": "stderr",
     "output_type": "stream",
     "text": [
      "[*********************100%%**********************]  1 of 1 completed\n",
      "[*********************100%%**********************]  1 of 1 completed"
     ]
    },
    {
     "name": "stdout",
     "output_type": "stream",
     "text": [
      "Buying [0. 0.] shares of GOOGL at 136.3800048828125 on 2023-09-08 00:00:00\n",
      "Selling shares of GOOGL at 133.74000549316406 on 2023-09-20 00:00:00\n",
      "Buying [0. 0.] shares of GOOGL at 137.5800018310547 on 2023-10-06 00:00:00\n",
      "Selling shares of GOOGL at 125.61000061035156 on 2023-10-25 00:00:00\n",
      "Buying [0. 0.] shares of GOOGL at 132.08999633789062 on 2023-11-13 00:00:00\n",
      "Selling shares of GOOGL at 131.86000061035156 on 2023-12-01 00:00:00\n",
      "Buying [0. 0.] shares of GOOGL at 136.64999389648438 on 2023-12-19 00:00:00\n",
      "Selling shares of GOOGL at 140.10000610351562 on 2024-01-31 00:00:00\n",
      "Buying [0. 0.] shares of GOOGL at 143.10000610351562 on 2024-03-14 00:00:00\n",
      "Selling shares of GOOGL at 181.02000427246094 on 2024-07-17 00:00:00\n"
     ]
    },
    {
     "name": "stderr",
     "output_type": "stream",
     "text": [
      "\n"
     ]
    },
    {
     "name": "stdout",
     "output_type": "stream",
     "text": [
      "Buying [0. 0.] shares of AMZN at 138.22999572753906 on 2023-09-08 00:00:00\n",
      "Selling shares of AMZN at 135.2899932861328 on 2023-09-20 00:00:00\n",
      "Buying [0. 0.] shares of AMZN at 131.8300018310547 on 2023-10-11 00:00:00\n",
      "Selling shares of AMZN at 125.16999816894531 on 2023-10-20 00:00:00\n",
      "Buying [0. 0.] shares of AMZN at 132.7100067138672 on 2023-10-30 00:00:00\n",
      "Selling shares of AMZN at 144.57000732421875 on 2024-01-04 00:00:00\n",
      "Buying [0. 0.] shares of AMZN at 153.72999572753906 on 2024-01-10 00:00:00\n",
      "Selling shares of AMZN at 179.22000122070312 on 2024-04-18 00:00:00\n",
      "Buying [0. 0.] shares of AMZN at 184.72000122070312 on 2024-05-02 00:00:00\n",
      "Selling shares of AMZN at 181.0500030517578 on 2024-05-23 00:00:00\n",
      "Buying [0. 0.] shares of AMZN at 185.0 on 2024-06-06 00:00:00\n",
      "Selling shares of AMZN at 187.92999267578125 on 2024-07-17 00:00:00\n"
     ]
    },
    {
     "name": "stderr",
     "output_type": "stream",
     "text": [
      "[*********************100%%**********************]  1 of 1 completed\n",
      "\n",
      "1 Failed download:\n",
      "['FB']: YFChartError('%ticker%: No data found, symbol may be delisted')\n",
      "[*********************100%%**********************]  1 of 1 completed\n",
      "[*********************100%%**********************]  1 of 1 completed\n"
     ]
    },
    {
     "name": "stdout",
     "output_type": "stream",
     "text": [
      "Buying [2. 0.] shares of NVDA at 44.6879997253418 on 2023-10-05 00:00:00\n",
      "Selling shares of NVDA at 42.19599914550781 on 2023-10-18 00:00:00\n",
      "Buying [2. 0.] shares of NVDA at 45.005001068115234 on 2023-11-03 00:00:00\n",
      "Selling shares of NVDA at 46.77000045776367 on 2023-11-30 00:00:00\n",
      "Buying [2. 0.] shares of NVDA at 48.349998474121094 on 2023-12-14 00:00:00\n",
      "Selling shares of NVDA at 47.569000244140625 on 2024-01-03 00:00:00\n",
      "Buying [1. 0.] shares of NVDA at 52.25299835205078 on 2024-01-08 00:00:00\n",
      "Selling shares of NVDA at 85.90499877929688 on 2024-04-04 00:00:00\n",
      "Buying [1. 0.] shares of NVDA at 87.73500061035156 on 2024-04-26 00:00:00\n",
      "Selling shares of NVDA at 118.11000061035156 on 2024-06-24 00:00:00\n",
      "Buying [1. 0.] shares of NVDA at 116.13999938964844 on 2024-08-13 00:00:00\n",
      "Buying [0. 0.] shares of TSLA at 273.5799865722656 on 2023-09-11 00:00:00\n",
      "Selling shares of TSLA at 244.8800048828125 on 2023-09-22 00:00:00\n",
      "Buying [0. 0.] shares of TSLA at 263.6199951171875 on 2023-10-10 00:00:00\n",
      "Selling shares of TSLA at 242.67999267578125 on 2023-10-18 00:00:00\n",
      "Buying [0. 0.] shares of TSLA at 222.11000061035156 on 2023-11-08 00:00:00\n",
      "Selling shares of TSLA at 237.92999267578125 on 2024-01-04 00:00:00\n",
      "Buying [0. 0.] shares of TSLA at 200.4499969482422 on 2024-02-15 00:00:00\n",
      "Selling shares of TSLA at 180.74000549316406 on 2024-03-05 00:00:00\n",
      "Buying [0. 0.] shares of TSLA at 179.8300018310547 on 2024-03-27 00:00:00\n",
      "Selling shares of TSLA at 164.89999389648438 on 2024-04-05 00:00:00\n",
      "Buying [0. 0.] shares of TSLA at 194.0500030517578 on 2024-04-29 00:00:00\n",
      "Selling shares of TSLA at 173.7899932861328 on 2024-06-10 00:00:00\n",
      "Buying [0. 0.] shares of TSLA at 187.44000244140625 on 2024-06-17 00:00:00\n",
      "Selling shares of TSLA at 215.99000549316406 on 2024-07-24 00:00:00\n"
     ]
    },
    {
     "name": "stderr",
     "output_type": "stream",
     "text": [
      "[*********************100%%**********************]  1 of 1 completed\n",
      "[*********************100%%**********************]  1 of 1 completed\n"
     ]
    },
    {
     "name": "stdout",
     "output_type": "stream",
     "text": [
      "Buying [0. 0.] shares of NFLX at 442.79998779296875 on 2023-09-08 00:00:00\n",
      "Selling shares of NFLX at 412.239990234375 on 2023-09-13 00:00:00\n",
      "Buying [0. 0.] shares of NFLX at 401.7699890136719 on 2023-10-19 00:00:00\n",
      "Selling shares of NFLX at 455.1499938964844 on 2023-12-05 00:00:00\n",
      "Buying [0. 0.] shares of NFLX at 479.9800109863281 on 2023-12-13 00:00:00\n",
      "Selling shares of NFLX at 554.52001953125 on 2024-02-13 00:00:00\n",
      "Buying [0. 0.] shares of NFLX at 579.3300170898438 on 2024-02-14 00:00:00\n",
      "Selling shares of NFLX at 607.1500244140625 on 2024-04-15 00:00:00\n",
      "Buying [0. 0.] shares of NFLX at 606.0 on 2024-05-07 00:00:00\n",
      "Selling shares of NFLX at 652.75 on 2024-07-11 00:00:00\n",
      "Buying [0. 0.] shares of NFLX at 648.02001953125 on 2024-08-13 00:00:00\n",
      "Buying [0. 0.] shares of ADBE at 560.3599853515625 on 2023-09-08 00:00:00\n",
      "Selling shares of ADBE at 528.8900146484375 on 2023-09-15 00:00:00\n",
      "Buying [0. 0.] shares of ADBE at 532.719970703125 on 2023-10-10 00:00:00\n",
      "Selling shares of ADBE at 521.1400146484375 on 2023-10-25 00:00:00\n",
      "Buying [0. 0.] shares of ADBE at 558.7100219726562 on 2023-11-02 00:00:00\n",
      "Selling shares of ADBE at 595.7000122070312 on 2023-12-06 00:00:00\n",
      "Buying [0. 0.] shares of ADBE at 625.2000122070312 on 2023-12-11 00:00:00\n",
      "Selling shares of ADBE at 584.6400146484375 on 2023-12-14 00:00:00\n",
      "Buying [0. 0.] shares of ADBE at 596.5399780273438 on 2024-01-12 00:00:00\n",
      "Selling shares of ADBE at 590.4400024414062 on 2024-02-15 00:00:00\n",
      "Buying [0. 0.] shares of ADBE at 579.1400146484375 on 2024-03-12 00:00:00\n",
      "Selling shares of ADBE at 492.4599914550781 on 2024-03-15 00:00:00\n",
      "Buying [0. 0.] shares of ADBE at 486.17999267578125 on 2024-05-03 00:00:00\n",
      "Selling shares of ADBE at 445.8699951171875 on 2024-05-30 00:00:00\n",
      "Buying [0. 0.] shares of ADBE at 525.3099975585938 on 2024-06-14 00:00:00\n",
      "Selling shares of ADBE at 551.0 on 2024-07-19 00:00:00\n",
      "Buying [0. 0.] shares of ADBE at 554.1599731445312 on 2024-08-15 00:00:00\n"
     ]
    },
    {
     "name": "stderr",
     "output_type": "stream",
     "text": [
      "[*********************100%%**********************]  1 of 1 completed"
     ]
    },
    {
     "name": "stdout",
     "output_type": "stream",
     "text": [
      "Buying [2. 0.] shares of INTC at 38.0099983215332 on 2023-09-08 00:00:00\n",
      "Selling shares of INTC at 34.689998626708984 on 2023-09-20 00:00:00\n",
      "Buying [2. 0.] shares of INTC at 36.060001373291016 on 2023-10-09 00:00:00\n",
      "Selling shares of INTC at 34.91999816894531 on 2023-10-20 00:00:00\n",
      "Buying [2. 0.] shares of INTC at 36.5 on 2023-10-31 00:00:00\n",
      "Selling shares of INTC at 41.27000045776367 on 2023-12-06 00:00:00\n",
      "Buying [2. 0.] shares of INTC at 44.540000915527344 on 2023-12-11 00:00:00\n",
      "Selling shares of INTC at 46.060001373291016 on 2024-01-17 00:00:00\n",
      "Buying [2. 0.] shares of INTC at 48.88999938964844 on 2024-01-23 00:00:00\n",
      "Selling shares of INTC at 43.650001525878906 on 2024-01-26 00:00:00\n",
      "Buying [2. 0.] shares of INTC at 46.150001525878906 on 2024-03-07 00:00:00\n",
      "Selling shares of INTC at 42.75 on 2024-03-14 00:00:00\n",
      "Buying [1. 0.] shares of INTC at 44.52000045776367 on 2024-04-01 00:00:00\n",
      "Selling shares of INTC at 40.33000183105469 on 2024-04-03 00:00:00\n",
      "Buying [2. 0.] shares of INTC at 32.029998779296875 on 2024-05-16 00:00:00\n",
      "Selling shares of INTC at 30.079999923706055 on 2024-05-23 00:00:00\n",
      "Buying [2. 0.] shares of INTC at 31.229999542236328 on 2024-07-03 00:00:00\n",
      "Selling shares of INTC at 31.700000762939453 on 2024-07-24 00:00:00\n"
     ]
    },
    {
     "name": "stderr",
     "output_type": "stream",
     "text": [
      "\n"
     ]
    },
    {
     "ename": "ValueError",
     "evalue": "operands could not be broadcast together with shapes (10,) (2,) ",
     "output_type": "error",
     "traceback": [
      "\u001b[1;31m---------------------------------------------------------------------------\u001b[0m",
      "\u001b[1;31mValueError\u001b[0m                                Traceback (most recent call last)",
      "Cell \u001b[1;32mIn[40], line 7\u001b[0m\n\u001b[0;32m      4\u001b[0m results_df \u001b[38;5;241m=\u001b[39m pd\u001b[38;5;241m.\u001b[39mDataFrame(results)\n\u001b[0;32m      6\u001b[0m \u001b[38;5;66;03m# Calculate percentage return\u001b[39;00m\n\u001b[1;32m----> 7\u001b[0m results_df[\u001b[38;5;124m'\u001b[39m\u001b[38;5;124mStrategy Return (\u001b[39m\u001b[38;5;124m%\u001b[39m\u001b[38;5;124m)\u001b[39m\u001b[38;5;124m'\u001b[39m] \u001b[38;5;241m=\u001b[39m (\u001b[43mresults_df\u001b[49m\u001b[43m[\u001b[49m\u001b[38;5;124;43m'\u001b[39;49m\u001b[38;5;124;43mFinal Portfolio Value\u001b[39;49m\u001b[38;5;124;43m'\u001b[39;49m\u001b[43m]\u001b[49m\u001b[43m \u001b[49m\u001b[38;5;241;43m-\u001b[39;49m\u001b[43m \u001b[49m\u001b[43minitial_capital\u001b[49m) \u001b[38;5;241m/\u001b[39m initial_capital \u001b[38;5;241m*\u001b[39m \u001b[38;5;241m100\u001b[39m\n",
      "File \u001b[1;32mc:\\Users\\ashda\\AppData\\Local\\Programs\\Python\\Python312\\Lib\\site-packages\\pandas\\core\\ops\\common.py:76\u001b[0m, in \u001b[0;36m_unpack_zerodim_and_defer.<locals>.new_method\u001b[1;34m(self, other)\u001b[0m\n\u001b[0;32m     72\u001b[0m             \u001b[38;5;28;01mreturn\u001b[39;00m \u001b[38;5;28mNotImplemented\u001b[39m\n\u001b[0;32m     74\u001b[0m other \u001b[38;5;241m=\u001b[39m item_from_zerodim(other)\n\u001b[1;32m---> 76\u001b[0m \u001b[38;5;28;01mreturn\u001b[39;00m \u001b[43mmethod\u001b[49m\u001b[43m(\u001b[49m\u001b[38;5;28;43mself\u001b[39;49m\u001b[43m,\u001b[49m\u001b[43m \u001b[49m\u001b[43mother\u001b[49m\u001b[43m)\u001b[49m\n",
      "File \u001b[1;32mc:\\Users\\ashda\\AppData\\Local\\Programs\\Python\\Python312\\Lib\\site-packages\\pandas\\core\\arraylike.py:194\u001b[0m, in \u001b[0;36mOpsMixin.__sub__\u001b[1;34m(self, other)\u001b[0m\n\u001b[0;32m    192\u001b[0m \u001b[38;5;129m@unpack_zerodim_and_defer\u001b[39m(\u001b[38;5;124m\"\u001b[39m\u001b[38;5;124m__sub__\u001b[39m\u001b[38;5;124m\"\u001b[39m)\n\u001b[0;32m    193\u001b[0m \u001b[38;5;28;01mdef\u001b[39;00m \u001b[38;5;21m__sub__\u001b[39m(\u001b[38;5;28mself\u001b[39m, other):\n\u001b[1;32m--> 194\u001b[0m     \u001b[38;5;28;01mreturn\u001b[39;00m \u001b[38;5;28;43mself\u001b[39;49m\u001b[38;5;241;43m.\u001b[39;49m\u001b[43m_arith_method\u001b[49m\u001b[43m(\u001b[49m\u001b[43mother\u001b[49m\u001b[43m,\u001b[49m\u001b[43m \u001b[49m\u001b[43moperator\u001b[49m\u001b[38;5;241;43m.\u001b[39;49m\u001b[43msub\u001b[49m\u001b[43m)\u001b[49m\n",
      "File \u001b[1;32mc:\\Users\\ashda\\AppData\\Local\\Programs\\Python\\Python312\\Lib\\site-packages\\pandas\\core\\series.py:6135\u001b[0m, in \u001b[0;36mSeries._arith_method\u001b[1;34m(self, other, op)\u001b[0m\n\u001b[0;32m   6133\u001b[0m \u001b[38;5;28;01mdef\u001b[39;00m \u001b[38;5;21m_arith_method\u001b[39m(\u001b[38;5;28mself\u001b[39m, other, op):\n\u001b[0;32m   6134\u001b[0m     \u001b[38;5;28mself\u001b[39m, other \u001b[38;5;241m=\u001b[39m \u001b[38;5;28mself\u001b[39m\u001b[38;5;241m.\u001b[39m_align_for_op(other)\n\u001b[1;32m-> 6135\u001b[0m     \u001b[38;5;28;01mreturn\u001b[39;00m \u001b[43mbase\u001b[49m\u001b[38;5;241;43m.\u001b[39;49m\u001b[43mIndexOpsMixin\u001b[49m\u001b[38;5;241;43m.\u001b[39;49m\u001b[43m_arith_method\u001b[49m\u001b[43m(\u001b[49m\u001b[38;5;28;43mself\u001b[39;49m\u001b[43m,\u001b[49m\u001b[43m \u001b[49m\u001b[43mother\u001b[49m\u001b[43m,\u001b[49m\u001b[43m \u001b[49m\u001b[43mop\u001b[49m\u001b[43m)\u001b[49m\n",
      "File \u001b[1;32mc:\\Users\\ashda\\AppData\\Local\\Programs\\Python\\Python312\\Lib\\site-packages\\pandas\\core\\base.py:1382\u001b[0m, in \u001b[0;36mIndexOpsMixin._arith_method\u001b[1;34m(self, other, op)\u001b[0m\n\u001b[0;32m   1379\u001b[0m     rvalues \u001b[38;5;241m=\u001b[39m np\u001b[38;5;241m.\u001b[39marange(rvalues\u001b[38;5;241m.\u001b[39mstart, rvalues\u001b[38;5;241m.\u001b[39mstop, rvalues\u001b[38;5;241m.\u001b[39mstep)\n\u001b[0;32m   1381\u001b[0m \u001b[38;5;28;01mwith\u001b[39;00m np\u001b[38;5;241m.\u001b[39merrstate(\u001b[38;5;28mall\u001b[39m\u001b[38;5;241m=\u001b[39m\u001b[38;5;124m\"\u001b[39m\u001b[38;5;124mignore\u001b[39m\u001b[38;5;124m\"\u001b[39m):\n\u001b[1;32m-> 1382\u001b[0m     result \u001b[38;5;241m=\u001b[39m \u001b[43mops\u001b[49m\u001b[38;5;241;43m.\u001b[39;49m\u001b[43marithmetic_op\u001b[49m\u001b[43m(\u001b[49m\u001b[43mlvalues\u001b[49m\u001b[43m,\u001b[49m\u001b[43m \u001b[49m\u001b[43mrvalues\u001b[49m\u001b[43m,\u001b[49m\u001b[43m \u001b[49m\u001b[43mop\u001b[49m\u001b[43m)\u001b[49m\n\u001b[0;32m   1384\u001b[0m \u001b[38;5;28;01mreturn\u001b[39;00m \u001b[38;5;28mself\u001b[39m\u001b[38;5;241m.\u001b[39m_construct_result(result, name\u001b[38;5;241m=\u001b[39mres_name)\n",
      "File \u001b[1;32mc:\\Users\\ashda\\AppData\\Local\\Programs\\Python\\Python312\\Lib\\site-packages\\pandas\\core\\ops\\array_ops.py:283\u001b[0m, in \u001b[0;36marithmetic_op\u001b[1;34m(left, right, op)\u001b[0m\n\u001b[0;32m    279\u001b[0m     _bool_arith_check(op, left, right)  \u001b[38;5;66;03m# type: ignore[arg-type]\u001b[39;00m\n\u001b[0;32m    281\u001b[0m     \u001b[38;5;66;03m# error: Argument 1 to \"_na_arithmetic_op\" has incompatible type\u001b[39;00m\n\u001b[0;32m    282\u001b[0m     \u001b[38;5;66;03m# \"Union[ExtensionArray, ndarray[Any, Any]]\"; expected \"ndarray[Any, Any]\"\u001b[39;00m\n\u001b[1;32m--> 283\u001b[0m     res_values \u001b[38;5;241m=\u001b[39m \u001b[43m_na_arithmetic_op\u001b[49m\u001b[43m(\u001b[49m\u001b[43mleft\u001b[49m\u001b[43m,\u001b[49m\u001b[43m \u001b[49m\u001b[43mright\u001b[49m\u001b[43m,\u001b[49m\u001b[43m \u001b[49m\u001b[43mop\u001b[49m\u001b[43m)\u001b[49m  \u001b[38;5;66;03m# type: ignore[arg-type]\u001b[39;00m\n\u001b[0;32m    285\u001b[0m \u001b[38;5;28;01mreturn\u001b[39;00m res_values\n",
      "File \u001b[1;32mc:\\Users\\ashda\\AppData\\Local\\Programs\\Python\\Python312\\Lib\\site-packages\\pandas\\core\\ops\\array_ops.py:218\u001b[0m, in \u001b[0;36m_na_arithmetic_op\u001b[1;34m(left, right, op, is_cmp)\u001b[0m\n\u001b[0;32m    215\u001b[0m     func \u001b[38;5;241m=\u001b[39m partial(expressions\u001b[38;5;241m.\u001b[39mevaluate, op)\n\u001b[0;32m    217\u001b[0m \u001b[38;5;28;01mtry\u001b[39;00m:\n\u001b[1;32m--> 218\u001b[0m     result \u001b[38;5;241m=\u001b[39m \u001b[43mfunc\u001b[49m\u001b[43m(\u001b[49m\u001b[43mleft\u001b[49m\u001b[43m,\u001b[49m\u001b[43m \u001b[49m\u001b[43mright\u001b[49m\u001b[43m)\u001b[49m\n\u001b[0;32m    219\u001b[0m \u001b[38;5;28;01mexcept\u001b[39;00m \u001b[38;5;167;01mTypeError\u001b[39;00m:\n\u001b[0;32m    220\u001b[0m     \u001b[38;5;28;01mif\u001b[39;00m \u001b[38;5;129;01mnot\u001b[39;00m is_cmp \u001b[38;5;129;01mand\u001b[39;00m (\n\u001b[0;32m    221\u001b[0m         left\u001b[38;5;241m.\u001b[39mdtype \u001b[38;5;241m==\u001b[39m \u001b[38;5;28mobject\u001b[39m \u001b[38;5;129;01mor\u001b[39;00m \u001b[38;5;28mgetattr\u001b[39m(right, \u001b[38;5;124m\"\u001b[39m\u001b[38;5;124mdtype\u001b[39m\u001b[38;5;124m\"\u001b[39m, \u001b[38;5;28;01mNone\u001b[39;00m) \u001b[38;5;241m==\u001b[39m \u001b[38;5;28mobject\u001b[39m\n\u001b[0;32m    222\u001b[0m     ):\n\u001b[1;32m   (...)\u001b[0m\n\u001b[0;32m    225\u001b[0m         \u001b[38;5;66;03m# Don't do this for comparisons, as that will handle complex numbers\u001b[39;00m\n\u001b[0;32m    226\u001b[0m         \u001b[38;5;66;03m#  incorrectly, see GH#32047\u001b[39;00m\n",
      "File \u001b[1;32mc:\\Users\\ashda\\AppData\\Local\\Programs\\Python\\Python312\\Lib\\site-packages\\pandas\\core\\computation\\expressions.py:242\u001b[0m, in \u001b[0;36mevaluate\u001b[1;34m(op, a, b, use_numexpr)\u001b[0m\n\u001b[0;32m    239\u001b[0m \u001b[38;5;28;01mif\u001b[39;00m op_str \u001b[38;5;129;01mis\u001b[39;00m \u001b[38;5;129;01mnot\u001b[39;00m \u001b[38;5;28;01mNone\u001b[39;00m:\n\u001b[0;32m    240\u001b[0m     \u001b[38;5;28;01mif\u001b[39;00m use_numexpr:\n\u001b[0;32m    241\u001b[0m         \u001b[38;5;66;03m# error: \"None\" not callable\u001b[39;00m\n\u001b[1;32m--> 242\u001b[0m         \u001b[38;5;28;01mreturn\u001b[39;00m \u001b[43m_evaluate\u001b[49m\u001b[43m(\u001b[49m\u001b[43mop\u001b[49m\u001b[43m,\u001b[49m\u001b[43m \u001b[49m\u001b[43mop_str\u001b[49m\u001b[43m,\u001b[49m\u001b[43m \u001b[49m\u001b[43ma\u001b[49m\u001b[43m,\u001b[49m\u001b[43m \u001b[49m\u001b[43mb\u001b[49m\u001b[43m)\u001b[49m  \u001b[38;5;66;03m# type: ignore[misc]\u001b[39;00m\n\u001b[0;32m    243\u001b[0m \u001b[38;5;28;01mreturn\u001b[39;00m _evaluate_standard(op, op_str, a, b)\n",
      "File \u001b[1;32mc:\\Users\\ashda\\AppData\\Local\\Programs\\Python\\Python312\\Lib\\site-packages\\pandas\\core\\computation\\expressions.py:73\u001b[0m, in \u001b[0;36m_evaluate_standard\u001b[1;34m(op, op_str, a, b)\u001b[0m\n\u001b[0;32m     71\u001b[0m \u001b[38;5;28;01mif\u001b[39;00m _TEST_MODE:\n\u001b[0;32m     72\u001b[0m     _store_test_result(\u001b[38;5;28;01mFalse\u001b[39;00m)\n\u001b[1;32m---> 73\u001b[0m \u001b[38;5;28;01mreturn\u001b[39;00m \u001b[43mop\u001b[49m\u001b[43m(\u001b[49m\u001b[43ma\u001b[49m\u001b[43m,\u001b[49m\u001b[43m \u001b[49m\u001b[43mb\u001b[49m\u001b[43m)\u001b[49m\n",
      "\u001b[1;31mValueError\u001b[0m: operands could not be broadcast together with shapes (10,) (2,) "
     ]
    }
   ],
   "source": [
    "results = [backtest_stochastic_simple(ticker) for ticker in tech_stocks]\n",
    "results_df = pd.DataFrame(results)\n",
    "results_df['Strategy Return (%)'] = (results_df['Final Portfolio Value'] - initial_capital) / initial_capital * 100\n"
   ]
  },
  {
   "cell_type": "code",
   "execution_count": null,
   "metadata": {},
   "outputs": [],
   "source": [
    "sp500_data = yf.download('SPY', period=\"1y\")\n",
    "sp500_return = (sp500_data['Close'].iloc[-1] - sp500_data['Close'].iloc[0]) / sp500_data['Close'].iloc[0] * 100"
   ]
  },
  {
   "cell_type": "code",
   "execution_count": null,
   "metadata": {},
   "outputs": [],
   "source": [
    "print(\"Stochastic Oscillator Strategy Results:\")\n",
    "print(results)\n",
    "print(f\"\\nS&P 500 Return over the same period: {sp500_return:.2f}%\")\n",
    "plt.figure(figsize=(12, 6))\n",
    "plt.bar(results['Ticker'], results['Strategy Return (%)'], label=\"Stochastic Strategy Return\")\n",
    "plt.axhline(sp500_return, color='red', linestyle='--', label=\"S&P 500 Return\")\n",
    "plt.title(\"Stochastic Oscillator Strategy Returns vs. S&P 500\")\n",
    "plt.xlabel(\"Ticker\")\n",
    "plt.ylabel(\"Return (%)\")\n",
    "plt.legend()\n",
    "plt.grid(True)\n",
    "plt.show()"
   ]
  }
 ],
 "metadata": {
  "kernelspec": {
   "display_name": "Python 3",
   "language": "python",
   "name": "python3"
  },
  "language_info": {
   "codemirror_mode": {
    "name": "ipython",
    "version": 3
   },
   "file_extension": ".py",
   "mimetype": "text/x-python",
   "name": "python",
   "nbconvert_exporter": "python",
   "pygments_lexer": "ipython3",
   "version": "3.12.1"
  }
 },
 "nbformat": 4,
 "nbformat_minor": 2
}
