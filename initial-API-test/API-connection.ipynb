{
 "cells": [
  {
   "cell_type": "code",
   "execution_count": 19,
   "metadata": {},
   "outputs": [
    {
     "name": "stdout",
     "output_type": "stream",
     "text": [
      "Requirement already satisfied: robin_stocks in c:\\users\\ashda\\appdata\\local\\programs\\python\\python312\\lib\\site-packages (3.1.0)\n",
      "Requirement already satisfied: requests in c:\\users\\ashda\\appdata\\local\\programs\\python\\python312\\lib\\site-packages (from robin_stocks) (2.32.3)\n",
      "Requirement already satisfied: pyotp in c:\\users\\ashda\\appdata\\local\\programs\\python\\python312\\lib\\site-packages (from robin_stocks) (2.9.0)\n",
      "Requirement already satisfied: python-dotenv in c:\\users\\ashda\\appdata\\local\\programs\\python\\python312\\lib\\site-packages (from robin_stocks) (1.0.1)\n",
      "Requirement already satisfied: cryptography in c:\\users\\ashda\\appdata\\local\\programs\\python\\python312\\lib\\site-packages (from robin_stocks) (43.0.0)\n",
      "Requirement already satisfied: cffi>=1.12 in c:\\users\\ashda\\appdata\\local\\programs\\python\\python312\\lib\\site-packages (from cryptography->robin_stocks) (1.17.0)\n",
      "Requirement already satisfied: charset-normalizer<4,>=2 in c:\\users\\ashda\\appdata\\local\\programs\\python\\python312\\lib\\site-packages (from requests->robin_stocks) (3.3.2)\n",
      "Requirement already satisfied: idna<4,>=2.5 in c:\\users\\ashda\\appdata\\local\\programs\\python\\python312\\lib\\site-packages (from requests->robin_stocks) (3.7)\n",
      "Requirement already satisfied: urllib3<3,>=1.21.1 in c:\\users\\ashda\\appdata\\local\\programs\\python\\python312\\lib\\site-packages (from requests->robin_stocks) (2.2.2)\n",
      "Requirement already satisfied: certifi>=2017.4.17 in c:\\users\\ashda\\appdata\\local\\programs\\python\\python312\\lib\\site-packages (from requests->robin_stocks) (2024.7.4)\n",
      "Requirement already satisfied: pycparser in c:\\users\\ashda\\appdata\\local\\programs\\python\\python312\\lib\\site-packages (from cffi>=1.12->cryptography->robin_stocks) (2.22)\n",
      "Note: you may need to restart the kernel to use updated packages.\n"
     ]
    },
    {
     "name": "stderr",
     "output_type": "stream",
     "text": [
      "\n",
      "[notice] A new release of pip is available: 23.2.1 -> 24.2\n",
      "[notice] To update, run: python.exe -m pip install --upgrade pip\n"
     ]
    }
   ],
   "source": [
    "%pip install robin_stocks\n",
    "import os\n",
    "import robin_stocks.robinhood as r\n",
    "username = os.getenv(\"ROBINHOOD_USERNAME\")\n",
    "password = os.getenv(\"ROBINHOOD_PASSWORD\")\n",
    "login = r.login(username,password)"
   ]
  },
  {
   "cell_type": "code",
   "execution_count": 17,
   "metadata": {},
   "outputs": [
    {
     "name": "stdout",
     "output_type": "stream",
     "text": [
      "GEVO {'price': '0.784400', 'quantity': '151.00000000', 'average_buy_price': '4.0428', 'equity': '118.44', 'percent_change': '-80.60', 'intraday_percent_change': '0.00', 'equity_change': '-492.018400', 'type': 'stock', 'name': 'Gevo', 'id': '2e153a47-7b8a-4ebc-a37b-a3848288166b', 'pe_ratio': '-2.550000', 'percentage': '3.90'}\n",
      "AAPL {'price': '225.700000', 'quantity': '1.01220100', 'average_buy_price': '170.2922', 'equity': '228.45', 'percent_change': '32.54', 'intraday_percent_change': '0.00', 'equity_change': '56.083831', 'type': 'stock', 'name': 'Apple', 'id': '450dfc6d-5510-4d40-abfb-f633b7d9be3e', 'pe_ratio': '34.417400', 'percentage': '7.53'}\n",
      "RIVN {'price': '13.420000', 'quantity': '1.00000000', 'average_buy_price': '81.1900', 'equity': '13.42', 'percent_change': '-83.47', 'intraday_percent_change': '0.00', 'equity_change': '-67.770000', 'type': 'stock', 'name': 'Rivian Automotive', 'id': 'acc0099d-bae4-4589-936c-e36c5c5321ed', 'pe_ratio': '-2.270000', 'percentage': '0.44'}\n",
      "UAL {'price': '42.350000', 'quantity': '2.00000000', 'average_buy_price': '32.7800', 'equity': '84.70', 'percent_change': '29.19', 'intraday_percent_change': '0.00', 'equity_change': '19.140000', 'type': 'stock', 'name': 'United Airlines', 'id': '365d8e2f-09d0-4157-b3e8-807433c84bb8', 'pe_ratio': '4.771900', 'percentage': '2.79'}\n",
      "AAL {'price': '10.330000', 'quantity': '7.00000000', 'average_buy_price': '13.9900', 'equity': '72.31', 'percent_change': '-26.16', 'intraday_percent_change': '0.00', 'equity_change': '-25.620000', 'type': 'stock', 'name': 'American Airlines', 'id': '45ccb9d7-b9f0-40aa-833f-8381a4e5c3e5', 'pe_ratio': '-36.230000', 'percentage': '2.38'}\n",
      "DAL {'price': '40.569800', 'quantity': '2.01907500', 'average_buy_price': '31.7473', 'equity': '81.91', 'percent_change': '27.79', 'intraday_percent_change': '0.00', 'equity_change': '17.813289', 'type': 'stock', 'name': 'Delta Air Lines', 'id': 'b9a6444e-ce3e-4186-be32-b82814d2b418', 'pe_ratio': '5.772990', 'percentage': '2.70'}\n",
      "TSLA {'price': '222.000000', 'quantity': '0.70353600', 'average_buy_price': '298.9612', 'equity': '156.18', 'percent_change': '-25.74', 'intraday_percent_change': '0.00', 'equity_change': '-54.144975', 'type': 'stock', 'name': 'Tesla', 'id': 'e39ed23a-7bd1-4587-b060-71988d9ef483', 'pe_ratio': '60.695900', 'percentage': '5.15'}\n",
      "VOO {'price': '514.160000', 'quantity': '2.80212400', 'average_buy_price': '373.0531', 'equity': '1440.74', 'percent_change': '37.82', 'intraday_percent_change': '0.00', 'equity_change': '395.399031', 'type': 'etp', 'name': 'Vanguard S&P 500 ETF', 'id': '306245dd-b82d-4d8d-bcc5-7c58e87cdd15', 'pe_ratio': '26.138283', 'percentage': '47.48'}\n",
      "GOOGL {'price': '167.399900', 'quantity': '5.00566800', 'average_buy_price': '120.8790', 'equity': '837.95', 'percent_change': '38.49', 'intraday_percent_change': '0.00', 'equity_change': '232.868180', 'type': 'stock', 'name': 'Alphabet Class A', 'id': '54db869e-f7d5-45fb-88f1-8d7072d4c8b2', 'pe_ratio': '23.375200', 'percentage': '27.62'}\n"
     ]
    }
   ],
   "source": [
    "my_stocks = r.build_holdings()\n",
    "for key,value in my_stocks.items():\n",
    "    print(key,value)"
   ]
  }
 ],
 "metadata": {
  "kernelspec": {
   "display_name": "Python 3",
   "language": "python",
   "name": "python3"
  },
  "language_info": {
   "codemirror_mode": {
    "name": "ipython",
    "version": 3
   },
   "file_extension": ".py",
   "mimetype": "text/x-python",
   "name": "python",
   "nbconvert_exporter": "python",
   "pygments_lexer": "ipython3",
   "version": "3.12.1"
  }
 },
 "nbformat": 4,
 "nbformat_minor": 2
}
