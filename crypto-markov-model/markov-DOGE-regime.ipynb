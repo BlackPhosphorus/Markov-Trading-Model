{
 "cells": [
  {
   "cell_type": "code",
   "execution_count": 1,
   "metadata": {},
   "outputs": [
    {
     "data": {
      "application/javascript": "\n        if (window._pyforest_update_imports_cell) { window._pyforest_update_imports_cell('import pandas as pd'); }\n    ",
      "text/plain": [
       "<IPython.core.display.Javascript object>"
      ]
     },
     "metadata": {},
     "output_type": "display_data"
    },
    {
     "data": {
      "application/javascript": "\n        if (window._pyforest_update_imports_cell) { window._pyforest_update_imports_cell('import pandas as pd'); }\n    ",
      "text/plain": [
       "<IPython.core.display.Javascript object>"
      ]
     },
     "metadata": {},
     "output_type": "display_data"
    },
    {
     "data": {
      "application/javascript": "\n        if (window._pyforest_update_imports_cell) { window._pyforest_update_imports_cell('import pandas as pd'); }\n    ",
      "text/plain": [
       "<IPython.core.display.Javascript object>"
      ]
     },
     "metadata": {},
     "output_type": "display_data"
    }
   ],
   "source": [
    "import pkg_resources\n",
    "from pyforest import *\n",
    "import datetime, pickle, copy\n",
    "pd.set_option('display.max_rows', 500)\n",
    "pd.set_option('display.max_columns', 500)\n",
    "pd.set_option('display.width', 150)\n",
    "import matplotlib.pyplot as plt\n",
    "\n",
    "from pandas.plotting import register_matplotlib_converters\n",
    "register_matplotlib_converters()\n",
    "\n",
    "import quandl\n",
    "plt.style.use('ggplot')\n",
    "from statistics import variance \n",
    "from random import randint\n",
    "import scipy as sp\n",
    "from scipy import stats\n",
    "\n",
    "import ffn\n",
    "from matplotlib import cm\n",
    "import numpy as np\n",
    "\n",
    "from sklearn.preprocessing import scale # for the check the error and accuracy of the model\n",
    "from sklearn.metrics import mean_squared_error, r2_score, accuracy_score, r2_score\n",
    "import sklearn.mixture as mix\n",
    "import math, pickle\n",
    "from math import sqrt\n",
    "from sklearn.model_selection import train_test_split, KFold, StratifiedKFold, cross_val_score, GridSearchCV, cross_validate\n",
    "import warnings\n",
    "\n",
    "import seaborn as sns\n",
    "sns.set()\n",
    "from hmmlearn.hmm import GaussianHMM\n",
    "from random import randint\n",
    "from sklearn import mixture\n",
    "import itertools\n",
    "from scipy import linalg\n",
    "import matplotlib as mpl\n",
    "warnings.filterwarnings(\"ignore\")"
   ]
  },
  {
   "cell_type": "code",
   "execution_count": 21,
   "metadata": {},
   "outputs": [
    {
     "name": "stderr",
     "output_type": "stream",
     "text": [
      "[*********************100%%**********************]  1 of 1 completed"
     ]
    },
    {
     "name": "stdout",
     "output_type": "stream",
     "text": [
      "DOGECOIN:\n",
      "                Open      High       Low     Close  Adj Close      Volume\n",
      "Date                                                                     \n",
      "2021-08-17  0.319631  0.339462  0.295763  0.299442   0.299442  5699700481\n",
      "2021-08-18  0.299203  0.324227  0.282016  0.303739   0.303739  6347995770\n",
      "2021-08-19  0.303376  0.319018  0.294088  0.317144   0.317144  3760495939\n",
      "2021-08-20  0.317571  0.333223  0.314142  0.327491   0.327491  3512291078\n",
      "2021-08-21  0.327395  0.329356  0.315433  0.316797   0.316797  2600396651\n",
      "\n",
      "\n",
      "(1101, 6)\n"
     ]
    },
    {
     "name": "stderr",
     "output_type": "stream",
     "text": [
      "\n"
     ]
    }
   ],
   "source": [
    "import yfinance as yf\n",
    "df = yf.download('DOGE-USD', start='2021-08-17')\n",
    "\n",
    "print(f'DOGECOIN:')\n",
    "print(df.head())\n",
    "print('\\n')\n",
    "print(df.shape)"
   ]
  },
  {
   "cell_type": "code",
   "execution_count": 22,
   "metadata": {},
   "outputs": [
    {
     "data": {
      "text/html": [
       "<div>\n",
       "<style scoped>\n",
       "    .dataframe tbody tr th:only-of-type {\n",
       "        vertical-align: middle;\n",
       "    }\n",
       "\n",
       "    .dataframe tbody tr th {\n",
       "        vertical-align: top;\n",
       "    }\n",
       "\n",
       "    .dataframe thead th {\n",
       "        text-align: right;\n",
       "    }\n",
       "</style>\n",
       "<table border=\"1\" class=\"dataframe\">\n",
       "  <thead>\n",
       "    <tr style=\"text-align: right;\">\n",
       "      <th></th>\n",
       "      <th>High</th>\n",
       "      <th>Low</th>\n",
       "      <th>Open</th>\n",
       "      <th>Adj Close</th>\n",
       "      <th>Volume</th>\n",
       "      <th>returns</th>\n",
       "    </tr>\n",
       "    <tr>\n",
       "      <th>Date</th>\n",
       "      <th></th>\n",
       "      <th></th>\n",
       "      <th></th>\n",
       "      <th></th>\n",
       "      <th></th>\n",
       "      <th></th>\n",
       "    </tr>\n",
       "  </thead>\n",
       "  <tbody>\n",
       "    <tr>\n",
       "      <th>2024-08-17</th>\n",
       "      <td>0.103631</td>\n",
       "      <td>0.100156</td>\n",
       "      <td>0.100439</td>\n",
       "      <td>0.102755</td>\n",
       "      <td>305545333</td>\n",
       "      <td>0.022797</td>\n",
       "    </tr>\n",
       "    <tr>\n",
       "      <th>2024-08-18</th>\n",
       "      <td>0.104306</td>\n",
       "      <td>0.100169</td>\n",
       "      <td>0.102755</td>\n",
       "      <td>0.100172</td>\n",
       "      <td>377630490</td>\n",
       "      <td>-0.025459</td>\n",
       "    </tr>\n",
       "    <tr>\n",
       "      <th>2024-08-19</th>\n",
       "      <td>0.101807</td>\n",
       "      <td>0.098712</td>\n",
       "      <td>0.100172</td>\n",
       "      <td>0.101504</td>\n",
       "      <td>463249309</td>\n",
       "      <td>0.013209</td>\n",
       "    </tr>\n",
       "    <tr>\n",
       "      <th>2024-08-20</th>\n",
       "      <td>0.105619</td>\n",
       "      <td>0.101229</td>\n",
       "      <td>0.101506</td>\n",
       "      <td>0.103001</td>\n",
       "      <td>695089222</td>\n",
       "      <td>0.014640</td>\n",
       "    </tr>\n",
       "    <tr>\n",
       "      <th>2024-08-22</th>\n",
       "      <td>0.106312</td>\n",
       "      <td>0.104286</td>\n",
       "      <td>0.106159</td>\n",
       "      <td>0.105292</td>\n",
       "      <td>521046976</td>\n",
       "      <td>0.021999</td>\n",
       "    </tr>\n",
       "  </tbody>\n",
       "</table>\n",
       "</div>"
      ],
      "text/plain": [
       "                High       Low      Open  Adj Close     Volume   returns\n",
       "Date                                                                    \n",
       "2024-08-17  0.103631  0.100156  0.100439   0.102755  305545333  0.022797\n",
       "2024-08-18  0.104306  0.100169  0.102755   0.100172  377630490 -0.025459\n",
       "2024-08-19  0.101807  0.098712  0.100172   0.101504  463249309  0.013209\n",
       "2024-08-20  0.105619  0.101229  0.101506   0.103001  695089222  0.014640\n",
       "2024-08-22  0.106312  0.104286  0.106159   0.105292  521046976  0.021999"
      ]
     },
     "execution_count": 22,
     "metadata": {},
     "output_type": "execute_result"
    }
   ],
   "source": [
    "data = df[['High','Low','Open','Adj Close', 'Volume']]\n",
    "data['returns'] = np.log(data['Adj Close'] / data['Adj Close'].shift())\n",
    "data.dropna(inplace=True)\n",
    "data.tail()"
   ]
  },
  {
   "cell_type": "code",
   "execution_count": 23,
   "metadata": {},
   "outputs": [
    {
     "data": {
      "text/plain": [
       "count    1100.000000\n",
       "mean        0.113739\n",
       "std         0.058050\n",
       "min         0.053012\n",
       "25%         0.071535\n",
       "50%         0.086498\n",
       "75%         0.143374\n",
       "max         0.327491\n",
       "Name: Adj Close, dtype: float64"
      ]
     },
     "execution_count": 23,
     "metadata": {},
     "output_type": "execute_result"
    },
    {
     "data": {
      "image/png": "[encoded data removed]",
      "text/plain": [
       "<Figure size 1400x600 with 2 Axes>"
      ]
     },
     "metadata": {},
     "output_type": "display_data"
    }
   ],
   "source": [
    "plt.figure(figsize=(14,6))\n",
    "plt.subplot(1,2,1)\n",
    "data['Adj Close'].hist(bins=50)\n",
    "plt.title('Adj Close price')\n",
    "plt.subplot(1,2,2)\n",
    "stats.probplot(data['Adj Close'], plot=plt);\n",
    "data['Adj Close'].describe().T"
   ]
  },
  {
   "cell_type": "code",
   "execution_count": 5,
   "metadata": {},
   "outputs": [
    {
     "data": {
      "text/plain": [
       "(np.float64(-5.894389876872524),\n",
       " np.float64(2.874212255594119e-07),\n",
       " 0,\n",
       " 3,\n",
       " {'1%': np.float64(-10.41719074074074),\n",
       "  '5%': np.float64(-5.77838074074074),\n",
       "  '10%': np.float64(-3.391681111111111)},\n",
       " np.float64(-22.872440827781247))"
      ]
     },
     "execution_count": 5,
     "metadata": {},
     "output_type": "execute_result"
    }
   ],
   "source": [
    "from statsmodels.tsa.stattools import adfuller\n",
    "\n",
    "adfuller(data['returns'].dropna())"
   ]
  },
  {
   "cell_type": "markdown",
   "metadata": {},
   "source": [
    "Series is stationary"
   ]
  },
  {
   "cell_type": "code",
   "execution_count": 25,
   "metadata": {},
   "outputs": [
    {
     "data": {
      "text/html": [
       "<div>\n",
       "<style scoped>\n",
       "    .dataframe tbody tr th:only-of-type {\n",
       "        vertical-align: middle;\n",
       "    }\n",
       "\n",
       "    .dataframe tbody tr th {\n",
       "        vertical-align: top;\n",
       "    }\n",
       "\n",
       "    .dataframe thead th {\n",
       "        text-align: right;\n",
       "    }\n",
       "</style>\n",
       "<table border=\"1\" class=\"dataframe\">\n",
       "  <thead>\n",
       "    <tr style=\"text-align: right;\">\n",
       "      <th></th>\n",
       "      <th>High</th>\n",
       "      <th>Low</th>\n",
       "      <th>Open</th>\n",
       "      <th>Adj Close</th>\n",
       "      <th>Volume</th>\n",
       "      <th>returns</th>\n",
       "      <th>smoothed_returns</th>\n",
       "      <th>state</th>\n",
       "    </tr>\n",
       "    <tr>\n",
       "      <th>Date</th>\n",
       "      <th></th>\n",
       "      <th></th>\n",
       "      <th></th>\n",
       "      <th></th>\n",
       "      <th></th>\n",
       "      <th></th>\n",
       "      <th></th>\n",
       "      <th></th>\n",
       "    </tr>\n",
       "  </thead>\n",
       "  <tbody>\n",
       "    <tr>\n",
       "      <th>2024-08-17</th>\n",
       "      <td>0.103631</td>\n",
       "      <td>0.100156</td>\n",
       "      <td>0.100439</td>\n",
       "      <td>0.102755</td>\n",
       "      <td>305545333</td>\n",
       "      <td>0.022797</td>\n",
       "      <td>0.000649</td>\n",
       "      <td>up</td>\n",
       "    </tr>\n",
       "    <tr>\n",
       "      <th>2024-08-18</th>\n",
       "      <td>0.104306</td>\n",
       "      <td>0.100169</td>\n",
       "      <td>0.102755</td>\n",
       "      <td>0.100172</td>\n",
       "      <td>377630490</td>\n",
       "      <td>-0.025459</td>\n",
       "      <td>-0.000316</td>\n",
       "      <td>down</td>\n",
       "    </tr>\n",
       "    <tr>\n",
       "      <th>2024-08-19</th>\n",
       "      <td>0.101807</td>\n",
       "      <td>0.098712</td>\n",
       "      <td>0.100172</td>\n",
       "      <td>0.101504</td>\n",
       "      <td>463249309</td>\n",
       "      <td>0.013209</td>\n",
       "      <td>0.003516</td>\n",
       "      <td>up</td>\n",
       "    </tr>\n",
       "    <tr>\n",
       "      <th>2024-08-20</th>\n",
       "      <td>0.105619</td>\n",
       "      <td>0.101229</td>\n",
       "      <td>0.101506</td>\n",
       "      <td>0.103001</td>\n",
       "      <td>695089222</td>\n",
       "      <td>0.014640</td>\n",
       "      <td>0.000797</td>\n",
       "      <td>up</td>\n",
       "    </tr>\n",
       "    <tr>\n",
       "      <th>2024-08-22</th>\n",
       "      <td>0.106312</td>\n",
       "      <td>0.104286</td>\n",
       "      <td>0.106159</td>\n",
       "      <td>0.105292</td>\n",
       "      <td>521046976</td>\n",
       "      <td>0.021999</td>\n",
       "      <td>0.016616</td>\n",
       "      <td>up</td>\n",
       "    </tr>\n",
       "  </tbody>\n",
       "</table>\n",
       "</div>"
      ],
      "text/plain": [
       "                High       Low      Open  Adj Close     Volume   returns  smoothed_returns state\n",
       "Date                                                                                            \n",
       "2024-08-17  0.103631  0.100156  0.100439   0.102755  305545333  0.022797          0.000649    up\n",
       "2024-08-18  0.104306  0.100169  0.102755   0.100172  377630490 -0.025459         -0.000316  down\n",
       "2024-08-19  0.101807  0.098712  0.100172   0.101504  463249309  0.013209          0.003516    up\n",
       "2024-08-20  0.105619  0.101229  0.101506   0.103001  695089222  0.014640          0.000797    up\n",
       "2024-08-22  0.106312  0.104286  0.106159   0.105292  521046976  0.021999          0.016616    up"
      ]
     },
     "execution_count": 25,
     "metadata": {},
     "output_type": "execute_result"
    }
   ],
   "source": [
    "data['smoothed_returns'] = data['returns'].rolling(window=3).mean().dropna()\n",
    "data['state'] = data['returns'].apply(lambda x: 'up' if (x > 0.002)\\\n",
    "else ('down' if (x < -0.002)\\\n",
    "else 'no_change'))\n",
    "data.tail()"
   ]
  },
  {
   "cell_type": "code",
   "execution_count": 26,
   "metadata": {},
   "outputs": [
    {
     "data": {
      "text/html": [
       "<div>\n",
       "<style scoped>\n",
       "    .dataframe tbody tr th:only-of-type {\n",
       "        vertical-align: middle;\n",
       "    }\n",
       "\n",
       "    .dataframe tbody tr th {\n",
       "        vertical-align: top;\n",
       "    }\n",
       "\n",
       "    .dataframe thead th {\n",
       "        text-align: right;\n",
       "    }\n",
       "</style>\n",
       "<table border=\"1\" class=\"dataframe\">\n",
       "  <thead>\n",
       "    <tr style=\"text-align: right;\">\n",
       "      <th></th>\n",
       "      <th>High</th>\n",
       "      <th>Low</th>\n",
       "      <th>Open</th>\n",
       "      <th>Adj Close</th>\n",
       "      <th>Volume</th>\n",
       "      <th>returns</th>\n",
       "      <th>smoothed_returns</th>\n",
       "      <th>state</th>\n",
       "      <th>prev_state</th>\n",
       "    </tr>\n",
       "    <tr>\n",
       "      <th>Date</th>\n",
       "      <th></th>\n",
       "      <th></th>\n",
       "      <th></th>\n",
       "      <th></th>\n",
       "      <th></th>\n",
       "      <th></th>\n",
       "      <th></th>\n",
       "      <th></th>\n",
       "      <th></th>\n",
       "    </tr>\n",
       "  </thead>\n",
       "  <tbody>\n",
       "    <tr>\n",
       "      <th>2024-08-17</th>\n",
       "      <td>0.103631</td>\n",
       "      <td>0.100156</td>\n",
       "      <td>0.100439</td>\n",
       "      <td>0.102755</td>\n",
       "      <td>305545333</td>\n",
       "      <td>0.022797</td>\n",
       "      <td>0.000649</td>\n",
       "      <td>up</td>\n",
       "      <td>no_change</td>\n",
       "    </tr>\n",
       "    <tr>\n",
       "      <th>2024-08-18</th>\n",
       "      <td>0.104306</td>\n",
       "      <td>0.100169</td>\n",
       "      <td>0.102755</td>\n",
       "      <td>0.100172</td>\n",
       "      <td>377630490</td>\n",
       "      <td>-0.025459</td>\n",
       "      <td>-0.000316</td>\n",
       "      <td>down</td>\n",
       "      <td>up</td>\n",
       "    </tr>\n",
       "    <tr>\n",
       "      <th>2024-08-19</th>\n",
       "      <td>0.101807</td>\n",
       "      <td>0.098712</td>\n",
       "      <td>0.100172</td>\n",
       "      <td>0.101504</td>\n",
       "      <td>463249309</td>\n",
       "      <td>0.013209</td>\n",
       "      <td>0.003516</td>\n",
       "      <td>up</td>\n",
       "      <td>down</td>\n",
       "    </tr>\n",
       "    <tr>\n",
       "      <th>2024-08-20</th>\n",
       "      <td>0.105619</td>\n",
       "      <td>0.101229</td>\n",
       "      <td>0.101506</td>\n",
       "      <td>0.103001</td>\n",
       "      <td>695089222</td>\n",
       "      <td>0.014640</td>\n",
       "      <td>0.000797</td>\n",
       "      <td>up</td>\n",
       "      <td>up</td>\n",
       "    </tr>\n",
       "    <tr>\n",
       "      <th>2024-08-22</th>\n",
       "      <td>0.106312</td>\n",
       "      <td>0.104286</td>\n",
       "      <td>0.106159</td>\n",
       "      <td>0.105292</td>\n",
       "      <td>521046976</td>\n",
       "      <td>0.021999</td>\n",
       "      <td>0.016616</td>\n",
       "      <td>up</td>\n",
       "      <td>up</td>\n",
       "    </tr>\n",
       "  </tbody>\n",
       "</table>\n",
       "</div>"
      ],
      "text/plain": [
       "                High       Low      Open  Adj Close     Volume   returns  smoothed_returns state prev_state\n",
       "Date                                                                                                       \n",
       "2024-08-17  0.103631  0.100156  0.100439   0.102755  305545333  0.022797          0.000649    up  no_change\n",
       "2024-08-18  0.104306  0.100169  0.102755   0.100172  377630490 -0.025459         -0.000316  down         up\n",
       "2024-08-19  0.101807  0.098712  0.100172   0.101504  463249309  0.013209          0.003516    up       down\n",
       "2024-08-20  0.105619  0.101229  0.101506   0.103001  695089222  0.014640          0.000797    up         up\n",
       "2024-08-22  0.106312  0.104286  0.106159   0.105292  521046976  0.021999          0.016616    up         up"
      ]
     },
     "execution_count": 26,
     "metadata": {},
     "output_type": "execute_result"
    }
   ],
   "source": [
    "data['prev_state'] = data['state'].shift(1)\n",
    "data.tail()"
   ]
  },
  {
   "cell_type": "code",
   "execution_count": 27,
   "metadata": {},
   "outputs": [
    {
     "data": {
      "image/png": "[encoded data removed]",
      "text/plain": [
       "<Figure size 640x480 with 1 Axes>"
      ]
     },
     "metadata": {},
     "output_type": "display_data"
    }
   ],
   "source": [
    "data['returns'].hist(bins=100)\n",
    "plt.title('Distribution of Returns')\n",
    "plt.xlabel('Returns')\n",
    "plt.ylabel('Frequency')\n",
    "plt.show()"
   ]
  },
  {
   "cell_type": "code",
   "execution_count": 28,
   "metadata": {},
   "outputs": [
    {
     "data": {
      "text/html": [
       "<div>\n",
       "<style scoped>\n",
       "    .dataframe tbody tr th:only-of-type {\n",
       "        vertical-align: middle;\n",
       "    }\n",
       "\n",
       "    .dataframe tbody tr th {\n",
       "        vertical-align: top;\n",
       "    }\n",
       "\n",
       "    .dataframe thead th {\n",
       "        text-align: right;\n",
       "    }\n",
       "</style>\n",
       "<table border=\"1\" class=\"dataframe\">\n",
       "  <thead>\n",
       "    <tr style=\"text-align: right;\">\n",
       "      <th>state</th>\n",
       "      <th>down</th>\n",
       "      <th>no_change</th>\n",
       "      <th>up</th>\n",
       "    </tr>\n",
       "    <tr>\n",
       "      <th>prev_state</th>\n",
       "      <th></th>\n",
       "      <th></th>\n",
       "      <th></th>\n",
       "    </tr>\n",
       "  </thead>\n",
       "  <tbody>\n",
       "    <tr>\n",
       "      <th>down</th>\n",
       "      <td>223</td>\n",
       "      <td>38</td>\n",
       "      <td>265</td>\n",
       "    </tr>\n",
       "    <tr>\n",
       "      <th>no_change</th>\n",
       "      <td>34</td>\n",
       "      <td>6</td>\n",
       "      <td>29</td>\n",
       "    </tr>\n",
       "    <tr>\n",
       "      <th>up</th>\n",
       "      <td>269</td>\n",
       "      <td>25</td>\n",
       "      <td>210</td>\n",
       "    </tr>\n",
       "  </tbody>\n",
       "</table>\n",
       "</div>"
      ],
      "text/plain": [
       "state       down  no_change   up\n",
       "prev_state                      \n",
       "down         223         38  265\n",
       "no_change     34          6   29\n",
       "up           269         25  210"
      ]
     },
     "execution_count": 28,
     "metadata": {},
     "output_type": "execute_result"
    }
   ],
   "source": [
    "state_space = data[['prev_state', 'state']]\n",
    "state_space_matrix = data.groupby(['prev_state', 'state']).size().unstack()\n",
    "state_space_matrix"
   ]
  },
  {
   "cell_type": "code",
   "execution_count": 29,
   "metadata": {},
   "outputs": [
    {
     "name": "stdout",
     "output_type": "stream",
     "text": [
      "state\n",
      "down         526\n",
      "no_change     69\n",
      "up           504\n",
      "dtype: int64\n"
     ]
    }
   ],
   "source": [
    "print(state_space_matrix.sum())"
   ]
  },
  {
   "cell_type": "code",
   "execution_count": 30,
   "metadata": {},
   "outputs": [
    {
     "data": {
      "text/html": [
       "<div>\n",
       "<style scoped>\n",
       "    .dataframe tbody tr th:only-of-type {\n",
       "        vertical-align: middle;\n",
       "    }\n",
       "\n",
       "    .dataframe tbody tr th {\n",
       "        vertical-align: top;\n",
       "    }\n",
       "\n",
       "    .dataframe thead th {\n",
       "        text-align: right;\n",
       "    }\n",
       "</style>\n",
       "<table border=\"1\" class=\"dataframe\">\n",
       "  <thead>\n",
       "    <tr style=\"text-align: right;\">\n",
       "      <th>state</th>\n",
       "      <th>down</th>\n",
       "      <th>no_change</th>\n",
       "      <th>up</th>\n",
       "    </tr>\n",
       "    <tr>\n",
       "      <th>prev_state</th>\n",
       "      <th></th>\n",
       "      <th></th>\n",
       "      <th></th>\n",
       "    </tr>\n",
       "  </thead>\n",
       "  <tbody>\n",
       "    <tr>\n",
       "      <th>down</th>\n",
       "      <td>0.423954</td>\n",
       "      <td>0.072243</td>\n",
       "      <td>0.503802</td>\n",
       "    </tr>\n",
       "    <tr>\n",
       "      <th>no_change</th>\n",
       "      <td>0.492754</td>\n",
       "      <td>0.086957</td>\n",
       "      <td>0.420290</td>\n",
       "    </tr>\n",
       "    <tr>\n",
       "      <th>up</th>\n",
       "      <td>0.533730</td>\n",
       "      <td>0.049603</td>\n",
       "      <td>0.416667</td>\n",
       "    </tr>\n",
       "  </tbody>\n",
       "</table>\n",
       "</div>"
      ],
      "text/plain": [
       "state           down  no_change        up\n",
       "prev_state                               \n",
       "down        0.423954   0.072243  0.503802\n",
       "no_change   0.492754   0.086957  0.420290\n",
       "up          0.533730   0.049603  0.416667"
      ]
     },
     "execution_count": 30,
     "metadata": {},
     "output_type": "execute_result"
    }
   ],
   "source": [
    "transition_matrix = state_space_matrix.apply(lambda x: x/float(x.sum()), axis=1)\n",
    "transition_matrix"
   ]
  },
  {
   "cell_type": "code",
   "execution_count": 31,
   "metadata": {},
   "outputs": [
    {
     "name": "stdout",
     "output_type": "stream",
     "text": [
      "prev_state\n",
      "down         1.0\n",
      "no_change    1.0\n",
      "up           1.0\n",
      "dtype: float64\n"
     ]
    }
   ],
   "source": [
    "print(transition_matrix.sum(axis=1))"
   ]
  },
  {
   "cell_type": "code",
   "execution_count": 32,
   "metadata": {},
   "outputs": [
    {
     "data": {
      "text/html": [
       "<div>\n",
       "<style scoped>\n",
       "    .dataframe tbody tr th:only-of-type {\n",
       "        vertical-align: middle;\n",
       "    }\n",
       "\n",
       "    .dataframe tbody tr th {\n",
       "        vertical-align: top;\n",
       "    }\n",
       "\n",
       "    .dataframe thead th {\n",
       "        text-align: right;\n",
       "    }\n",
       "</style>\n",
       "<table border=\"1\" class=\"dataframe\">\n",
       "  <thead>\n",
       "    <tr style=\"text-align: right;\">\n",
       "      <th>state</th>\n",
       "      <th>down</th>\n",
       "      <th>no_change</th>\n",
       "      <th>up</th>\n",
       "    </tr>\n",
       "    <tr>\n",
       "      <th>prev_state</th>\n",
       "      <th></th>\n",
       "      <th></th>\n",
       "      <th></th>\n",
       "    </tr>\n",
       "  </thead>\n",
       "  <tbody>\n",
       "    <tr>\n",
       "      <th>down</th>\n",
       "      <td>0.4787</td>\n",
       "      <td>0.0628</td>\n",
       "      <td>0.4586</td>\n",
       "    </tr>\n",
       "    <tr>\n",
       "      <th>no_change</th>\n",
       "      <td>0.4786</td>\n",
       "      <td>0.0628</td>\n",
       "      <td>0.4587</td>\n",
       "    </tr>\n",
       "    <tr>\n",
       "      <th>up</th>\n",
       "      <td>0.4785</td>\n",
       "      <td>0.0628</td>\n",
       "      <td>0.4587</td>\n",
       "    </tr>\n",
       "  </tbody>\n",
       "</table>\n",
       "</div>"
      ],
      "text/plain": [
       "state         down  no_change      up\n",
       "prev_state                           \n",
       "down        0.4787     0.0628  0.4586\n",
       "no_change   0.4786     0.0628  0.4587\n",
       "up          0.4785     0.0628  0.4587"
      ]
     },
     "execution_count": 32,
     "metadata": {},
     "output_type": "execute_result"
    }
   ],
   "source": [
    "t0 = transition_matrix.copy()\n",
    "t1 = round(t0.dot(t0), 4)\n",
    "t1\n",
    "t2 = round(t0.dot(t1), 4)\n",
    "t2\n",
    "t3 = round(t0.dot(t2), 4)\n",
    "t3"
   ]
  },
  {
   "cell_type": "code",
   "execution_count": 33,
   "metadata": {},
   "outputs": [
    {
     "data": {
      "application/javascript": "\n        if (window._pyforest_update_imports_cell) { window._pyforest_update_imports_cell('import pandas as pd'); }\n    ",
      "text/plain": [
       "<IPython.core.display.Javascript object>"
      ]
     },
     "metadata": {},
     "output_type": "display_data"
    },
    {
     "data": {
      "text/html": [
       "<div>\n",
       "<style scoped>\n",
       "    .dataframe tbody tr th:only-of-type {\n",
       "        vertical-align: middle;\n",
       "    }\n",
       "\n",
       "    .dataframe tbody tr th {\n",
       "        vertical-align: top;\n",
       "    }\n",
       "\n",
       "    .dataframe thead th {\n",
       "        text-align: right;\n",
       "    }\n",
       "</style>\n",
       "<table border=\"1\" class=\"dataframe\">\n",
       "  <thead>\n",
       "    <tr style=\"text-align: right;\">\n",
       "      <th></th>\n",
       "      <th>0</th>\n",
       "      <th>1</th>\n",
       "      <th>2</th>\n",
       "    </tr>\n",
       "  </thead>\n",
       "  <tbody>\n",
       "    <tr>\n",
       "      <th>0</th>\n",
       "      <td>0.478677</td>\n",
       "      <td>0.062775</td>\n",
       "      <td>0.458549</td>\n",
       "    </tr>\n",
       "    <tr>\n",
       "      <th>1</th>\n",
       "      <td>0.478592</td>\n",
       "      <td>0.062789</td>\n",
       "      <td>0.458619</td>\n",
       "    </tr>\n",
       "    <tr>\n",
       "      <th>2</th>\n",
       "      <td>0.478558</td>\n",
       "      <td>0.062794</td>\n",
       "      <td>0.458648</td>\n",
       "    </tr>\n",
       "  </tbody>\n",
       "</table>\n",
       "</div>"
      ],
      "text/plain": [
       "          0         1         2\n",
       "0  0.478677  0.062775  0.458549\n",
       "1  0.478592  0.062789  0.458619\n",
       "2  0.478558  0.062794  0.458648"
      ]
     },
     "execution_count": 33,
     "metadata": {},
     "output_type": "execute_result"
    }
   ],
   "source": [
    "pd.DataFrame(np.linalg.matrix_power(t0,4))"
   ]
  },
  {
   "cell_type": "code",
   "execution_count": 34,
   "metadata": {},
   "outputs": [
    {
     "name": "stdout",
     "output_type": "stream",
     "text": [
      "iteration number:1\n",
      "iteration number:2\n",
      "iteration number:3\n",
      "iteration number:4\n",
      "iteration number:5\n",
      "iteration number:6\n",
      "iteration number:7\n",
      "iteration number:8\n",
      "iteration number:9\n",
      "iteration number:10\n",
      "iteration number:11\n",
      "iteration number:12\n",
      "iteration number:13\n",
      "iteration number:14\n",
      "iteration number:15\n",
      "iteration number:16\n"
     ]
    }
   ],
   "source": [
    "# find the equilibrium matrix\n",
    "i=1\n",
    "a= t0.copy()\n",
    "b = t0.dot(t0)\n",
    "while(not(a.equals(b))):\n",
    "  print('iteration number:' +str(i))\n",
    "  i += 1\n",
    "  a = b.copy()\n",
    "  b = b.dot(t0)"
   ]
  },
  {
   "cell_type": "code",
   "execution_count": 35,
   "metadata": {},
   "outputs": [
    {
     "name": "stdout",
     "output_type": "stream",
     "text": [
      "{('down', 'down'): np.float64(0.42395437262357416),\n",
      " ('down', 'no_change'): np.float64(0.07224334600760456),\n",
      " ('down', 'up'): np.float64(0.5038022813688213),\n",
      " ('no_change', 'down'): np.float64(0.4927536231884058),\n",
      " ('no_change', 'no_change'): np.float64(0.08695652173913043),\n",
      " ('no_change', 'up'): np.float64(0.42028985507246375),\n",
      " ('up', 'down'): np.float64(0.5337301587301587),\n",
      " ('up', 'no_change'): np.float64(0.0496031746031746),\n",
      " ('up', 'up'): np.float64(0.4166666666666667)}\n"
     ]
    }
   ],
   "source": [
    "from pprint import pprint \n",
    "\n",
    "# create a function that maps transition probability dataframe \n",
    "# to markov edges and weights\n",
    "\n",
    "def _get_markov_edges(Q):\n",
    "    edges = {}\n",
    "    for col in Q.columns:\n",
    "        for idx in Q.index:\n",
    "            edges[(idx,col)] = Q.loc[idx,col]\n",
    "    return edges\n",
    "\n",
    "edges_wts = _get_markov_edges(transition_matrix)\n",
    "pprint(edges_wts)\n",
    "     "
   ]
  },
  {
   "cell_type": "code",
   "execution_count": 37,
   "metadata": {},
   "outputs": [
    {
     "name": "stdout",
     "output_type": "stream",
     "text": [
      "Nodes:\n",
      "['down', 'no_change', 'up']\n",
      "\n",
      "Edges:\n"
     ]
    },
    {
     "data": {
      "application/javascript": "\n        if (window._pyforest_update_imports_cell) { window._pyforest_update_imports_cell('import pandas as pd'); }\n    ",
      "text/plain": [
       "<IPython.core.display.Javascript object>"
      ]
     },
     "metadata": {},
     "output_type": "display_data"
    },
    {
     "name": "stdout",
     "output_type": "stream",
     "text": [
      "           0          1                                                  2\n",
      "0       down       down  {'weight': 0.42395437262357416, 'label': 0.423...\n",
      "1       down  no_change  {'weight': 0.07224334600760456, 'label': 0.072...\n",
      "2       down         up  {'weight': 0.5038022813688213, 'label': 0.5038...\n",
      "3  no_change       down  {'weight': 0.4927536231884058, 'label': 0.4927...\n",
      "4  no_change  no_change  {'weight': 0.08695652173913043, 'label': 0.086...\n",
      "5  no_change         up  {'weight': 0.42028985507246375, 'label': 0.420...\n",
      "6         up       down  {'weight': 0.5337301587301587, 'label': 0.5337...\n",
      "7         up  no_change  {'weight': 0.0496031746031746, 'label': 0.0496...\n",
      "8         up         up  {'weight': 0.4166666666666667, 'label': 0.4166...\n",
      "None\n"
     ]
    },
    {
     "data": {
      "image/png": "[encoded data removed]",
      "text/plain": [
       "<Figure size 1200x600 with 1 Axes>"
      ]
     },
     "metadata": {},
     "output_type": "display_data"
    }
   ],
   "source": [
    "import networkx as nx\n",
    "import os\n",
    "os.environ[\"PATH\"] += os.pathsep + 'C:/Program Files/Graphviz/bin'\n",
    "states = ['up', 'down', 'no_change']\n",
    "\n",
    "# create graph object\n",
    "G = nx.MultiDiGraph()\n",
    "\n",
    "# nodes correspond to states\n",
    "G.add_nodes_from(state_space_matrix)\n",
    "print(f'Nodes:\\n{G.nodes()}\\n')\n",
    "\n",
    "# edges represent transition probabilities\n",
    "for k, v in edges_wts.items():\n",
    "    tmp_origin, tmp_destination = k[0], k[1]\n",
    "    G.add_edge(tmp_origin, tmp_destination, weight=v, label=v)\n",
    "print(f'Edges:')\n",
    "pprint(pd.DataFrame(G.edges(data=True)))    \n",
    "\n",
    "plt.figure(figsize=(12,6))\n",
    "pos = nx.drawing.nx_pydot.graphviz_layout(G, prog='dot')\n",
    "print(nx.draw_networkx(G, pos))\n",
    "\n",
    "# create edge labels for jupyter plot but is not necessary\n",
    "edge_labels = {(n1,n2):d['label'] for n1,n2,d in G.edges(data=True)}\n",
    "nx.draw_networkx_edge_labels(G , pos, edge_labels=edge_labels)\n",
    "nx.drawing.nx_pydot.write_dot(G, 'nasdaq_markov.dot')"
   ]
  },
  {
   "cell_type": "code",
   "execution_count": 40,
   "metadata": {},
   "outputs": [
    {
     "name": "stderr",
     "output_type": "stream",
     "text": [
      "c:\\Users\\ashda\\AppData\\Local\\Programs\\Python\\Python312\\Lib\\site-packages\\statsmodels\\tsa\\base\\tsa_model.py:473: ValueWarning: A date index has been provided, but it has no associated frequency information and so will be ignored when e.g. forecasting.\n",
      "  self._init_dates(dates, freq)\n"
     ]
    },
    {
     "name": "stdout",
     "output_type": "stream",
     "text": [
      "                        Markov Switching Model Results                        \n",
      "==============================================================================\n",
      "Dep. Variable:                returns   No. Observations:                 1098\n",
      "Model:               MarkovRegression   Log Likelihood                1987.932\n",
      "Date:                Thu, 22 Aug 2024   AIC                          -3951.865\n",
      "Time:                        00:25:47   BIC                          -3891.850\n",
      "Sample:                             0   HQIC                         -3929.159\n",
      "                               - 1098                                         \n",
      "Covariance Type:               approx                                         \n",
      "                             Regime 0 parameters                              \n",
      "==============================================================================\n",
      "                 coef    std err          z      P>|z|      [0.025      0.975]\n",
      "------------------------------------------------------------------------------\n",
      "const         -0.0023      0.002     -1.417      0.156      -0.006       0.001\n",
      "sigma2         0.0016      0.000     10.619      0.000       0.001       0.002\n",
      "                             Regime 1 parameters                              \n",
      "==============================================================================\n",
      "                 coef    std err          z      P>|z|      [0.025      0.975]\n",
      "------------------------------------------------------------------------------\n",
      "const          0.0042      0.009      0.448      0.654      -0.014       0.023\n",
      "sigma2         0.0102      0.002      6.162      0.000       0.007       0.013\n",
      "                             Regime 2 parameters                              \n",
      "==============================================================================\n",
      "                 coef    std err          z      P>|z|      [0.025      0.975]\n",
      "------------------------------------------------------------------------------\n",
      "const      -8.868e-05      0.001     -0.074      0.941      -0.002       0.002\n",
      "sigma2         0.0002   3.72e-05      6.113      0.000       0.000       0.000\n",
      "                         Regime transition parameters                         \n",
      "==============================================================================\n",
      "                 coef    std err          z      P>|z|      [0.025      0.975]\n",
      "------------------------------------------------------------------------------\n",
      "p[0->0]        0.9279      0.025     37.744      0.000       0.880       0.976\n",
      "p[1->0]        0.1473        nan        nan        nan         nan         nan\n",
      "p[2->0]        0.1100      0.043      2.579      0.010       0.026       0.194\n",
      "p[0->1]        0.0120      0.010      1.210      0.226      -0.007       0.031\n",
      "p[1->1]        0.8527        nan        nan        nan         nan         nan\n",
      "p[2->1]        0.0370      0.023      1.614      0.106      -0.008       0.082\n",
      "==============================================================================\n",
      "\n",
      "Warnings:\n",
      "[1] Covariance matrix calculated using numerical (complex-step) differentiation.\n"
     ]
    },
    {
     "data": {
      "image/png": "[encoded data removed]",
      "text/plain": [
       "<Figure size 1200x500 with 1 Axes>"
      ]
     },
     "metadata": {},
     "output_type": "display_data"
    }
   ],
   "source": [
    "import statsmodels.api as sm\n",
    "\n",
    "# Plot the data\n",
    "data['returns'].plot(title='DOGECOIN Daily Return %', figsize=(12,5))\n",
    "\n",
    "data.dropna(inplace=True)\n",
    "\n",
    "model = sm.tsa.MarkovRegression(data['returns'][-2500:], k_regimes=3, switching_variance=True)\n",
    "\n",
    "\n",
    "# launch the modelling process on the dataset\n",
    "np.random.seed(274)\n",
    "res_1 = model.fit(search_reps=50)\n",
    "\n",
    "\"\"\"We specify that 50 random perturbations from the starting parameter \n",
    "vector are examined and the best one used as the actual starting parameters. \n",
    "\n",
    "Because of the random nature of the search, the random seed generator \n",
    "beforehand allow replication of the result\"\"\"\n",
    "\n",
    "print(res_1.summary())"
   ]
  },
  {
   "cell_type": "code",
   "execution_count": 41,
   "metadata": {},
   "outputs": [
    {
     "data": {
      "application/javascript": "\n        if (window._pyforest_update_imports_cell) { window._pyforest_update_imports_cell('import pandas as pd'); }\n    ",
      "text/plain": [
       "<IPython.core.display.Javascript object>"
      ]
     },
     "metadata": {},
     "output_type": "display_data"
    },
    {
     "data": {
      "application/javascript": "\n        if (window._pyforest_update_imports_cell) { window._pyforest_update_imports_cell('import pandas as pd'); }\n    ",
      "text/plain": [
       "<IPython.core.display.Javascript object>"
      ]
     },
     "metadata": {},
     "output_type": "display_data"
    },
    {
     "data": {
      "text/html": [
       "<div>\n",
       "<style scoped>\n",
       "    .dataframe tbody tr th:only-of-type {\n",
       "        vertical-align: middle;\n",
       "    }\n",
       "\n",
       "    .dataframe tbody tr th {\n",
       "        vertical-align: top;\n",
       "    }\n",
       "\n",
       "    .dataframe thead th {\n",
       "        text-align: right;\n",
       "    }\n",
       "</style>\n",
       "<table border=\"1\" class=\"dataframe\">\n",
       "  <thead>\n",
       "    <tr style=\"text-align: right;\">\n",
       "      <th></th>\n",
       "      <th>Date</th>\n",
       "      <th>Predicted</th>\n",
       "      <th>returns</th>\n",
       "    </tr>\n",
       "  </thead>\n",
       "  <tbody>\n",
       "    <tr>\n",
       "      <th>0</th>\n",
       "      <td>2024-08-02</td>\n",
       "      <td>-0.002098</td>\n",
       "      <td>-0.067008</td>\n",
       "    </tr>\n",
       "    <tr>\n",
       "      <th>1</th>\n",
       "      <td>2024-08-03</td>\n",
       "      <td>-0.002070</td>\n",
       "      <td>-0.030402</td>\n",
       "    </tr>\n",
       "    <tr>\n",
       "      <th>2</th>\n",
       "      <td>2024-08-04</td>\n",
       "      <td>-0.001966</td>\n",
       "      <td>-0.041874</td>\n",
       "    </tr>\n",
       "    <tr>\n",
       "      <th>3</th>\n",
       "      <td>2024-08-05</td>\n",
       "      <td>-0.001759</td>\n",
       "      <td>-0.093189</td>\n",
       "    </tr>\n",
       "    <tr>\n",
       "      <th>4</th>\n",
       "      <td>2024-08-06</td>\n",
       "      <td>-0.001664</td>\n",
       "      <td>0.019574</td>\n",
       "    </tr>\n",
       "    <tr>\n",
       "      <th>5</th>\n",
       "      <td>2024-08-07</td>\n",
       "      <td>-0.001477</td>\n",
       "      <td>-0.008922</td>\n",
       "    </tr>\n",
       "    <tr>\n",
       "      <th>6</th>\n",
       "      <td>2024-08-08</td>\n",
       "      <td>-0.000947</td>\n",
       "      <td>0.117314</td>\n",
       "    </tr>\n",
       "    <tr>\n",
       "      <th>7</th>\n",
       "      <td>2024-08-09</td>\n",
       "      <td>-0.001650</td>\n",
       "      <td>-0.032457</td>\n",
       "    </tr>\n",
       "    <tr>\n",
       "      <th>8</th>\n",
       "      <td>2024-08-10</td>\n",
       "      <td>-0.001931</td>\n",
       "      <td>0.011741</td>\n",
       "    </tr>\n",
       "    <tr>\n",
       "      <th>9</th>\n",
       "      <td>2024-08-11</td>\n",
       "      <td>-0.002068</td>\n",
       "      <td>-0.045068</td>\n",
       "    </tr>\n",
       "    <tr>\n",
       "      <th>10</th>\n",
       "      <td>2024-08-12</td>\n",
       "      <td>-0.002125</td>\n",
       "      <td>0.069157</td>\n",
       "    </tr>\n",
       "    <tr>\n",
       "      <th>11</th>\n",
       "      <td>2024-08-13</td>\n",
       "      <td>-0.002120</td>\n",
       "      <td>-0.012616</td>\n",
       "    </tr>\n",
       "    <tr>\n",
       "      <th>12</th>\n",
       "      <td>2024-08-14</td>\n",
       "      <td>-0.002133</td>\n",
       "      <td>-0.036957</td>\n",
       "    </tr>\n",
       "    <tr>\n",
       "      <th>13</th>\n",
       "      <td>2024-08-15</td>\n",
       "      <td>-0.001828</td>\n",
       "      <td>-0.022563</td>\n",
       "    </tr>\n",
       "    <tr>\n",
       "      <th>14</th>\n",
       "      <td>2024-08-16</td>\n",
       "      <td>-0.001491</td>\n",
       "      <td>0.001714</td>\n",
       "    </tr>\n",
       "    <tr>\n",
       "      <th>15</th>\n",
       "      <td>2024-08-17</td>\n",
       "      <td>-0.001408</td>\n",
       "      <td>0.022797</td>\n",
       "    </tr>\n",
       "    <tr>\n",
       "      <th>16</th>\n",
       "      <td>2024-08-18</td>\n",
       "      <td>-0.001320</td>\n",
       "      <td>-0.025459</td>\n",
       "    </tr>\n",
       "    <tr>\n",
       "      <th>17</th>\n",
       "      <td>2024-08-19</td>\n",
       "      <td>-0.001146</td>\n",
       "      <td>0.013209</td>\n",
       "    </tr>\n",
       "    <tr>\n",
       "      <th>18</th>\n",
       "      <td>2024-08-20</td>\n",
       "      <td>-0.001093</td>\n",
       "      <td>0.014640</td>\n",
       "    </tr>\n",
       "    <tr>\n",
       "      <th>19</th>\n",
       "      <td>2024-08-22</td>\n",
       "      <td>-0.001107</td>\n",
       "      <td>0.021999</td>\n",
       "    </tr>\n",
       "  </tbody>\n",
       "</table>\n",
       "</div>"
      ],
      "text/plain": [
       "         Date  Predicted   returns\n",
       "0  2024-08-02  -0.002098 -0.067008\n",
       "1  2024-08-03  -0.002070 -0.030402\n",
       "2  2024-08-04  -0.001966 -0.041874\n",
       "3  2024-08-05  -0.001759 -0.093189\n",
       "4  2024-08-06  -0.001664  0.019574\n",
       "5  2024-08-07  -0.001477 -0.008922\n",
       "6  2024-08-08  -0.000947  0.117314\n",
       "7  2024-08-09  -0.001650 -0.032457\n",
       "8  2024-08-10  -0.001931  0.011741\n",
       "9  2024-08-11  -0.002068 -0.045068\n",
       "10 2024-08-12  -0.002125  0.069157\n",
       "11 2024-08-13  -0.002120 -0.012616\n",
       "12 2024-08-14  -0.002133 -0.036957\n",
       "13 2024-08-15  -0.001828 -0.022563\n",
       "14 2024-08-16  -0.001491  0.001714\n",
       "15 2024-08-17  -0.001408  0.022797\n",
       "16 2024-08-18  -0.001320 -0.025459\n",
       "17 2024-08-19  -0.001146  0.013209\n",
       "18 2024-08-20  -0.001093  0.014640\n",
       "19 2024-08-22  -0.001107  0.021999"
      ]
     },
     "execution_count": 41,
     "metadata": {},
     "output_type": "execute_result"
    }
   ],
   "source": [
    "pred_1 = res_1.predict()\n",
    "pred_1 = pd.DataFrame(pred_1).tail(20)\n",
    "pred_1.rename(columns ={0: 'Predicted'}, inplace=True)\n",
    "com_1 = pd.concat([pred_1, data['returns'].tail(20)], axis=1)\n",
    "com_1 = com_1.reset_index()\n",
    "com_1\n",
    "     "
   ]
  },
  {
   "cell_type": "code",
   "execution_count": 43,
   "metadata": {},
   "outputs": [
    {
     "name": "stdout",
     "output_type": "stream",
     "text": [
      "^C\n",
      "Note: you may need to restart the kernel to use updated packages.\n"
     ]
    },
    {
     "data": {
      "application/javascript": "\n        if (window._pyforest_update_imports_cell) { window._pyforest_update_imports_cell('import pandas as pd\\nimport plotly.graph_objs as go'); }\n    ",
      "text/plain": [
       "<IPython.core.display.Javascript object>"
      ]
     },
     "metadata": {},
     "output_type": "display_data"
    },
    {
     "data": {
      "application/javascript": "\n        if (window._pyforest_update_imports_cell) { window._pyforest_update_imports_cell('import pandas as pd\\nimport plotly.graph_objs as go'); }\n    ",
      "text/plain": [
       "<IPython.core.display.Javascript object>"
      ]
     },
     "metadata": {},
     "output_type": "display_data"
    },
    {
     "data": {
      "application/javascript": "\n        if (window._pyforest_update_imports_cell) { window._pyforest_update_imports_cell('import pandas as pd\\nimport plotly.graph_objs as go'); }\n    ",
      "text/plain": [
       "<IPython.core.display.Javascript object>"
      ]
     },
     "metadata": {},
     "output_type": "display_data"
    },
    {
     "ename": "ValueError",
     "evalue": "Mime type rendering requires nbformat>=4.2.0 but it is not installed",
     "output_type": "error",
     "traceback": [
      "\u001b[1;31m---------------------------------------------------------------------------\u001b[0m",
      "\u001b[1;31mValueError\u001b[0m                                Traceback (most recent call last)",
      "Cell \u001b[1;32mIn[43], line 8\u001b[0m\n\u001b[0;32m      6\u001b[0m fig\u001b[38;5;241m.\u001b[39mupdate_layout(autosize\u001b[38;5;241m=\u001b[39m\u001b[38;5;28;01mFalse\u001b[39;00m,width\u001b[38;5;241m=\u001b[39m\u001b[38;5;241m800\u001b[39m,height\u001b[38;5;241m=\u001b[39m\u001b[38;5;241m400\u001b[39m,)\n\u001b[0;32m      7\u001b[0m fig\u001b[38;5;241m.\u001b[39mupdate_layout(legend_orientation\u001b[38;5;241m=\u001b[39m\u001b[38;5;124m\"\u001b[39m\u001b[38;5;124mh\u001b[39m\u001b[38;5;124m\"\u001b[39m)\n\u001b[1;32m----> 8\u001b[0m \u001b[43mfig\u001b[49m\u001b[38;5;241;43m.\u001b[39;49m\u001b[43mshow\u001b[49m\u001b[43m(\u001b[49m\u001b[43m)\u001b[49m\n",
      "File \u001b[1;32mc:\\Users\\ashda\\AppData\\Local\\Programs\\Python\\Python312\\Lib\\site-packages\\plotly\\basedatatypes.py:3410\u001b[0m, in \u001b[0;36mBaseFigure.show\u001b[1;34m(self, *args, **kwargs)\u001b[0m\n\u001b[0;32m   3377\u001b[0m \u001b[38;5;250m\u001b[39m\u001b[38;5;124;03m\"\"\"\u001b[39;00m\n\u001b[0;32m   3378\u001b[0m \u001b[38;5;124;03mShow a figure using either the default renderer(s) or the renderer(s)\u001b[39;00m\n\u001b[0;32m   3379\u001b[0m \u001b[38;5;124;03mspecified by the renderer argument\u001b[39;00m\n\u001b[1;32m   (...)\u001b[0m\n\u001b[0;32m   3406\u001b[0m \u001b[38;5;124;03mNone\u001b[39;00m\n\u001b[0;32m   3407\u001b[0m \u001b[38;5;124;03m\"\"\"\u001b[39;00m\n\u001b[0;32m   3408\u001b[0m \u001b[38;5;28;01mimport\u001b[39;00m \u001b[38;5;21;01mplotly\u001b[39;00m\u001b[38;5;21;01m.\u001b[39;00m\u001b[38;5;21;01mio\u001b[39;00m \u001b[38;5;28;01mas\u001b[39;00m \u001b[38;5;21;01mpio\u001b[39;00m\n\u001b[1;32m-> 3410\u001b[0m \u001b[38;5;28;01mreturn\u001b[39;00m \u001b[43mpio\u001b[49m\u001b[38;5;241;43m.\u001b[39;49m\u001b[43mshow\u001b[49m\u001b[43m(\u001b[49m\u001b[38;5;28;43mself\u001b[39;49m\u001b[43m,\u001b[49m\u001b[43m \u001b[49m\u001b[38;5;241;43m*\u001b[39;49m\u001b[43margs\u001b[49m\u001b[43m,\u001b[49m\u001b[43m \u001b[49m\u001b[38;5;241;43m*\u001b[39;49m\u001b[38;5;241;43m*\u001b[39;49m\u001b[43mkwargs\u001b[49m\u001b[43m)\u001b[49m\n",
      "File \u001b[1;32mc:\\Users\\ashda\\AppData\\Local\\Programs\\Python\\Python312\\Lib\\site-packages\\plotly\\io\\_renderers.py:394\u001b[0m, in \u001b[0;36mshow\u001b[1;34m(fig, renderer, validate, **kwargs)\u001b[0m\n\u001b[0;32m    389\u001b[0m         \u001b[38;5;28;01mraise\u001b[39;00m \u001b[38;5;167;01mValueError\u001b[39;00m(\n\u001b[0;32m    390\u001b[0m             \u001b[38;5;124m\"\u001b[39m\u001b[38;5;124mMime type rendering requires ipython but it is not installed\u001b[39m\u001b[38;5;124m\"\u001b[39m\n\u001b[0;32m    391\u001b[0m         )\n\u001b[0;32m    393\u001b[0m     \u001b[38;5;28;01mif\u001b[39;00m \u001b[38;5;129;01mnot\u001b[39;00m nbformat \u001b[38;5;129;01mor\u001b[39;00m Version(nbformat\u001b[38;5;241m.\u001b[39m__version__) \u001b[38;5;241m<\u001b[39m Version(\u001b[38;5;124m\"\u001b[39m\u001b[38;5;124m4.2.0\u001b[39m\u001b[38;5;124m\"\u001b[39m):\n\u001b[1;32m--> 394\u001b[0m         \u001b[38;5;28;01mraise\u001b[39;00m \u001b[38;5;167;01mValueError\u001b[39;00m(\n\u001b[0;32m    395\u001b[0m             \u001b[38;5;124m\"\u001b[39m\u001b[38;5;124mMime type rendering requires nbformat>=4.2.0 but it is not installed\u001b[39m\u001b[38;5;124m\"\u001b[39m\n\u001b[0;32m    396\u001b[0m         )\n\u001b[0;32m    398\u001b[0m     ipython_display\u001b[38;5;241m.\u001b[39mdisplay(bundle, raw\u001b[38;5;241m=\u001b[39m\u001b[38;5;28;01mTrue\u001b[39;00m)\n\u001b[0;32m    400\u001b[0m \u001b[38;5;66;03m# external renderers\u001b[39;00m\n",
      "\u001b[1;31mValueError\u001b[0m: Mime type rendering requires nbformat>=4.2.0 but it is not installed"
     ]
    }
   ],
   "source": [
    "%pip install plotly\n",
    "fig = go.Figure()\n",
    "fig.add_trace(go.Scatter(x=com_1['Date'],y=com_1['returns'], name=\"Actual returns\"))\n",
    "fig.add_trace(go.Scatter(x=com_1['Date'],y=com_1['Predicted'], name=\"Predicted return\"))\n",
    "fig.update_layout(title=\"Nasdaq Actual vs Predicted returns\", yaxis_title=\"Price ($)\", font=dict(family=\"Courier New, monospace\",size=18,color=\"#7f7f7f\"))\n",
    "fig.update_layout(autosize=False,width=800,height=400,)\n",
    "fig.update_layout(legend_orientation=\"h\")\n",
    "fig.show()"
   ]
  }
 ],
 "metadata": {
  "kernelspec": {
   "display_name": "Python 3",
   "language": "python",
   "name": "python3"
  },
  "language_info": {
   "codemirror_mode": {
    "name": "ipython",
    "version": 3
   },
   "file_extension": ".py",
   "mimetype": "text/x-python",
   "name": "python",
   "nbconvert_exporter": "python",
   "pygments_lexer": "ipython3",
   "version": "3.12.1"
  }
 },
 "nbformat": 4,
 "nbformat_minor": 2
}
