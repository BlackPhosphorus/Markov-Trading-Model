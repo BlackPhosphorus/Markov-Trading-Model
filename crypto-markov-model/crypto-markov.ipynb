{
 "cells": [
  {
   "cell_type": "markdown",
   "metadata": {},
   "source": [
    "Importing and logging into RH with enviroment variables for privacy."
   ]
  },
  {
   "cell_type": "code",
   "execution_count": 20,
   "metadata": {},
   "outputs": [
    {
     "ename": "ModuleNotFoundError",
     "evalue": "No module named 'sklearn'",
     "output_type": "error",
     "traceback": [
      "\u001b[1;31m---------------------------------------------------------------------------\u001b[0m",
      "\u001b[1;31mModuleNotFoundError\u001b[0m                       Traceback (most recent call last)",
      "Cell \u001b[1;32mIn[20], line 7\u001b[0m\n\u001b[0;32m      5\u001b[0m \u001b[38;5;28;01mimport\u001b[39;00m \u001b[38;5;21;01mtime\u001b[39;00m\n\u001b[0;32m      6\u001b[0m \u001b[38;5;28;01mimport\u001b[39;00m \u001b[38;5;21;01mos\u001b[39;00m\n\u001b[1;32m----> 7\u001b[0m \u001b[38;5;28;01mfrom\u001b[39;00m \u001b[38;5;21;01msklearn\u001b[39;00m\u001b[38;5;21;01m.\u001b[39;00m\u001b[38;5;21;01mpreprocessing\u001b[39;00m \u001b[38;5;28;01mimport\u001b[39;00m KBinsDiscretizer\n\u001b[0;32m      8\u001b[0m username \u001b[38;5;241m=\u001b[39m os\u001b[38;5;241m.\u001b[39mgetenv(\u001b[38;5;124m\"\u001b[39m\u001b[38;5;124mROBINHOOD_USERNAME\u001b[39m\u001b[38;5;124m\"\u001b[39m)\n\u001b[0;32m      9\u001b[0m password \u001b[38;5;241m=\u001b[39m os\u001b[38;5;241m.\u001b[39mgetenv(\u001b[38;5;124m\"\u001b[39m\u001b[38;5;124mROBINHOOD_PASSWORD\u001b[39m\u001b[38;5;124m\"\u001b[39m)\n",
      "\u001b[1;31mModuleNotFoundError\u001b[0m: No module named 'sklearn'"
     ]
    }
   ],
   "source": [
    "import yfinance as yf\n",
    "import robin_stocks.robinhood as r\n",
    "import numpy as np\n",
    "import pandas as pd\n",
    "import time\n",
    "import os\n",
    "from sklearn.preprocessing import KBinsDiscretizer\n",
    "username = os.getenv(\"ROBINHOOD_USERNAME\")\n",
    "password = os.getenv(\"ROBINHOOD_PASSWORD\")\n",
    "login = r.login(username,password)"
   ]
  },
  {
   "cell_type": "markdown",
   "metadata": {},
   "source": [
    "RH data was not being kind, instead opted to use yfinance for historical data. Rolling mean of returns with a window of 24*4 = 96 (for 15-minute intervals, 24 hours)."
   ]
  },
  {
   "cell_type": "code",
   "execution_count": 2,
   "metadata": {},
   "outputs": [
    {
     "name": "stderr",
     "output_type": "stream",
     "text": [
      "[*********************100%%**********************]  1 of 1 completed\n"
     ]
    }
   ],
   "source": [
    "doge_data = yf.download('DOGE-USD', interval='15m', period='1mo')\n",
    "prices = doge_data['Close']"
   ]
  },
  {
   "cell_type": "markdown",
   "metadata": {},
   "source": [
    "Setting up Markov Chain. Defining multiple states based on volatility-adjusted thresholds, and creating transition matrix."
   ]
  },
  {
   "cell_type": "code",
   "execution_count": 3,
   "metadata": {},
   "outputs": [],
   "source": [
    "returns = prices.pct_change().dropna()\n",
    "rolling_returns = returns.rolling(window=96).mean().dropna()\n",
    "short_ma = prices.rolling(window=10).mean()  # 10-period moving average\n",
    "long_ma = prices.rolling(window=50).mean()   # 50-period moving average\n",
    "momentum = prices.diff(3)  # 3-period momentum\n",
    "volatility = returns.rolling(window=10).std()\n",
    "threshold = 2 * volatility.mean()"
   ]
  },
  {
   "cell_type": "code",
   "execution_count": null,
   "metadata": {},
   "outputs": [],
   "source": [
    "features = pd.DataFrame({\n",
    "    'Returns': returns,\n",
    "    'Short_MA': short_ma,\n",
    "    'Long_MA': long_ma,\n",
    "    'Momentum': momentum,\n",
    "    'Volatility': volatility\n",
    "}).dropna()\n",
    "est = KBinsDiscretizer(n_bins=4, encode='ordinal', strategy='uniform')\n",
    "states = est.fit_transform(features)\n",
    "states_df = pd.DataFrame(states, columns=features.columns, index=features.index)\n",
    "\n",
    "def calculate_transition_matrix(states_df):\n",
    "    transitions = pd.crosstab(\n",
    "        states_df.shift(1).apply(tuple, axis=1),\n",
    "        states_df.apply(tuple, axis=1),\n",
    "        normalize='index'\n",
    "    )\n",
    "    return transitions\n",
    "transitions = calculate_transition_matrix(states_df)"
   ]
  },
  {
   "cell_type": "markdown",
   "metadata": {
    "vscode": {
     "languageId": "raw"
    }
   },
   "source": [
    "Re-using Backtest framework from previous MDP project."
   ]
  },
  {
   "cell_type": "code",
   "execution_count": 16,
   "metadata": {},
   "outputs": [],
   "source": [
    "capital = 1000\n",
    "dogecoin_holdings = 0\n",
    "initial_buy_price = prices.iloc[0]\n",
    "buy_and_hold_value = 1000 / initial_buy_price * prices\n",
    "\n",
    "for i in range(len(states)-1):\n",
    "    if rolling_returns.iloc[i] > 0 and capital > 0:  # Simplified buy condition\n",
    "        dogecoin_holdings += capital / prices.iloc[i]\n",
    "        capital = 0\n",
    "    elif rolling_returns.iloc[i] < 0 and dogecoin_holdings > 0:  # Simplified sell condition\n",
    "        capital += dogecoin_holdings * prices.iloc[i]\n",
    "        dogecoin_holdings = 0\n",
    "\n",
    "final_backtest_value = capital + dogecoin_holdings * prices.iloc[-1]\n",
    "final_buy_and_hold_value = buy_and_hold_value.iloc[-1]"
   ]
  },
  {
   "cell_type": "markdown",
   "metadata": {},
   "source": [
    "Print and Display Results."
   ]
  },
  {
   "cell_type": "code",
   "execution_count": 17,
   "metadata": {},
   "outputs": [
    {
     "name": "stdout",
     "output_type": "stream",
     "text": [
      "Final Backtested Portfolio Value: $1499.18\n",
      "Final Buy-and-Hold Portfolio Value: $745.53\n"
     ]
    }
   ],
   "source": [
    "print(f\"Final Backtested Portfolio Value: ${final_backtest_value:.2f}\")\n",
    "print(f\"Final Buy-and-Hold Portfolio Value: ${final_buy_and_hold_value:.2f}\")"
   ]
  }
 ],
 "metadata": {
  "kernelspec": {
   "display_name": "Python 3",
   "language": "python",
   "name": "python3"
  },
  "language_info": {
   "codemirror_mode": {
    "name": "ipython",
    "version": 3
   },
   "file_extension": ".py",
   "mimetype": "text/x-python",
   "name": "python",
   "nbconvert_exporter": "python",
   "pygments_lexer": "ipython3",
   "version": "3.12.1"
  }
 },
 "nbformat": 4,
 "nbformat_minor": 2
}
